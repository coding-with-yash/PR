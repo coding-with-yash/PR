{
 "cells": [
  {
   "cell_type": "markdown",
   "id": "8a167536",
   "metadata": {},
   "source": [
    "# K-Means Mall Customer Segmentation"
   ]
  },
  {
   "cell_type": "markdown",
   "id": "3e04c6a3",
   "metadata": {},
   "source": [
    "Import Libraries:"
   ]
  },
  {
   "cell_type": "code",
   "execution_count": 18,
   "id": "25d3f0ed",
   "metadata": {},
   "outputs": [],
   "source": [
    "import pandas as pd\n",
    "import numpy as np\n",
    "import matplotlib.pyplot as plt\n",
    "import seaborn as sns\n",
    "from sklearn.cluster import KMeans\n",
    "import warnings\n",
    "import os\n",
    "# Set environment variable to avoid memory leak issue\n",
    "os.environ['OMP_NUM_THREADS'] = '1'"
   ]
  },
  {
   "cell_type": "markdown",
   "id": "a5565044",
   "metadata": {},
   "source": [
    "Load the Dataset:"
   ]
  },
  {
   "cell_type": "code",
   "execution_count": 19,
   "id": "b35064fb",
   "metadata": {},
   "outputs": [],
   "source": [
    "df = pd.read_csv(\"C:/Users/Admin/Desktop/ML/5/Mall_Customers.csv\")"
   ]
  },
  {
   "cell_type": "markdown",
   "id": "f4ecaea6",
   "metadata": {},
   "source": [
    "Explore the Data:"
   ]
  },
  {
   "cell_type": "code",
   "execution_count": 20,
   "id": "401b327f",
   "metadata": {},
   "outputs": [
    {
     "name": "stdout",
     "output_type": "stream",
     "text": [
      "   CustomerID  Gender  Age  Annual Income (k$)  Spending Score (1-100)\n",
      "0           1    Male   19                  15                      39\n",
      "1           2    Male   21                  15                      81\n",
      "2           3  Female   20                  16                       6\n",
      "3           4  Female   23                  16                      77\n",
      "4           5  Female   31                  17                      40\n"
     ]
    }
   ],
   "source": [
    "print(df.head())"
   ]
  },
  {
   "cell_type": "code",
   "execution_count": 21,
   "id": "401f676b",
   "metadata": {},
   "outputs": [
    {
     "name": "stdout",
     "output_type": "stream",
     "text": [
      "<class 'pandas.core.frame.DataFrame'>\n",
      "RangeIndex: 200 entries, 0 to 199\n",
      "Data columns (total 5 columns):\n",
      " #   Column                  Non-Null Count  Dtype \n",
      "---  ------                  --------------  ----- \n",
      " 0   CustomerID              200 non-null    int64 \n",
      " 1   Gender                  200 non-null    object\n",
      " 2   Age                     200 non-null    int64 \n",
      " 3   Annual Income (k$)      200 non-null    int64 \n",
      " 4   Spending Score (1-100)  200 non-null    int64 \n",
      "dtypes: int64(4), object(1)\n",
      "memory usage: 7.9+ KB\n",
      "None\n"
     ]
    }
   ],
   "source": [
    "print(df.info())"
   ]
  },
  {
   "cell_type": "code",
   "execution_count": 22,
   "id": "14d81f52",
   "metadata": {},
   "outputs": [
    {
     "name": "stdout",
     "output_type": "stream",
     "text": [
      "       CustomerID         Age  Annual Income (k$)  Spending Score (1-100)\n",
      "count  200.000000  200.000000          200.000000              200.000000\n",
      "mean   100.500000   38.850000           60.560000               50.200000\n",
      "std     57.879185   13.969007           26.264721               25.823522\n",
      "min      1.000000   18.000000           15.000000                1.000000\n",
      "25%     50.750000   28.750000           41.500000               34.750000\n",
      "50%    100.500000   36.000000           61.500000               50.000000\n",
      "75%    150.250000   49.000000           78.000000               73.000000\n",
      "max    200.000000   70.000000          137.000000               99.000000\n"
     ]
    }
   ],
   "source": [
    "print(df.describe())"
   ]
  },
  {
   "cell_type": "markdown",
   "id": "cebe412d",
   "metadata": {},
   "source": [
    "Data Preprocessing:\n",
    "Handle missing values, encode categorical variables if necessary, and scale the features."
   ]
  },
  {
   "cell_type": "code",
   "execution_count": 23,
   "id": "cf7f6a77",
   "metadata": {},
   "outputs": [],
   "source": [
    "# Example: Assuming 'Gender' is a categorical variable\n",
    "df['Gender'] = df['Gender'].map({'Male': 0, 'Female': 1})"
   ]
  },
  {
   "cell_type": "markdown",
   "id": "f3d23191",
   "metadata": {},
   "source": [
    "Feature Selection:\n",
    "Select the relevant features for clustering."
   ]
  },
  {
   "cell_type": "code",
   "execution_count": 24,
   "id": "bba69ffa",
   "metadata": {},
   "outputs": [],
   "source": [
    "X = df[['Annual Income (k$)', 'Spending Score (1-100)']]"
   ]
  },
  {
   "cell_type": "markdown",
   "id": "a1c7bd56",
   "metadata": {},
   "source": [
    "Determine the Number of Clusters (k):\n",
    "Use the Elbow Method or Silhouette Score to find the optimal number of clusters."
   ]
  },
  {
   "cell_type": "code",
   "execution_count": 25,
   "id": "6402b258",
   "metadata": {},
   "outputs": [
    {
     "name": "stderr",
     "output_type": "stream",
     "text": [
      "C:\\Users\\Admin\\anaconda3\\lib\\site-packages\\sklearn\\cluster\\_kmeans.py:1036: UserWarning: KMeans is known to have a memory leak on Windows with MKL, when there are less chunks than available threads. You can avoid it by setting the environment variable OMP_NUM_THREADS=1.\n",
      "  warnings.warn(\n"
     ]
    },
    {
     "data": {
      "image/png": "[encoded data removed]",
      "text/plain": [
       "<Figure size 432x288 with 1 Axes>"
      ]
     },
     "metadata": {
      "needs_background": "light"
     },
     "output_type": "display_data"
    }
   ],
   "source": [
    "import os\n",
    "\n",
    "# Set environment variable to avoid memory leak issue\n",
    "os.environ['OMP_NUM_THREADS'] = '1'\n",
    "\n",
    "wcss = []\n",
    "for i in range(1, 11):\n",
    "    kmeans = KMeans(n_clusters=i, init='k-means++', max_iter=300, n_init=10, random_state=0)\n",
    "    kmeans.fit(X)\n",
    "    wcss.append(kmeans.inertia_)\n",
    "\n",
    "# Plot the Elbow Method\n",
    "plt.plot(range(1, 11), wcss)\n",
    "plt.title('Elbow Method for Optimal k')\n",
    "plt.xlabel('Number of Clusters')\n",
    "plt.ylabel('WCSS')  # Within-Cluster Sum of Squares\n",
    "plt.show()"
   ]
  },
  {
   "cell_type": "markdown",
   "id": "e5e838c9",
   "metadata": {},
   "source": [
    "Apply K-means Clustering:\n",
    "Once you determine the optimal number of clusters (k), fit the K-means algorithm to the data."
   ]
  },
  {
   "cell_type": "code",
   "execution_count": 12,
   "id": "57e83bad",
   "metadata": {},
   "outputs": [],
   "source": [
    "k = 3  # Example: replace with the optimal number from the Elbow Method\n",
    "kmeans = KMeans(n_clusters=k, init='k-means++', max_iter=300, n_init=10, random_state=0)\n",
    "clusters = kmeans.fit_predict(X)"
   ]
  },
  {
   "cell_type": "markdown",
   "id": "973e94b9",
   "metadata": {},
   "source": [
    "Visualize the Clusters:\n",
    "Plot the clusters to visualize the segmentation."
   ]
  },
  {
   "cell_type": "code",
   "execution_count": 13,
   "id": "96e4e14b",
   "metadata": {},
   "outputs": [
    {
     "data": {
      "image/png": "[encoded data removed]",
      "text/plain": [
       "<Figure size 432x288 with 1 Axes>"
      ]
     },
     "metadata": {
      "needs_background": "light"
     },
     "output_type": "display_data"
    }
   ],
   "source": [
    "plt.scatter(X['Annual Income (k$)'], X['Spending Score (1-100)'], c=clusters, cmap='rainbow')\n",
    "plt.scatter(kmeans.cluster_centers_[:, 0], kmeans.cluster_centers_[:, 1], s=100, c='black', label='Centroids')\n",
    "plt.title('K-means Clustering of Mall Customers')\n",
    "plt.xlabel('Annual Income (k$)')\n",
    "plt.ylabel('Spending Score (1-100)')\n",
    "plt.legend()\n",
    "plt.show()"
   ]
  },
  {
   "cell_type": "markdown",
   "id": "f03d585d",
   "metadata": {},
   "source": [
    "# **K-means Clustering:**\n",
    "\n",
    "K-means clustering is an unsupervised machine learning algorithm used for partitioning a dataset into a set of distinct, non-overlapping groups or clusters. The goal is to group similar data points together while keeping dissimilar points in different clusters. It is a widely used method for exploratory data analysis and is particularly useful in applications such as customer segmentation, image compression, and anomaly detection.\n",
    "\n",
    "Here's a step-by-step explanation of the K-means clustering algorithm:\n",
    "\n",
    "1. **Initialization:**\n",
    "   - Choose the number of clusters (K) that you want to divide your data into.\n",
    "   - Randomly initialize K cluster centroids. These centroids are the initial mean values around which the clusters will form.\n",
    "\n",
    "2. **Assignment:**\n",
    "   - For each data point in the dataset, calculate the distance to each centroid.\n",
    "   - Assign the data point to the cluster whose centroid is closest (usually using Euclidean distance).\n",
    "\n",
    "3. **Update Centroids:**\n",
    "   - Recalculate the mean of the data points within each cluster.\n",
    "   - Update the cluster centroids to be the newly calculated means.\n",
    "\n",
    "4. **Repeat:**\n",
    "   - Repeat the assignment and update steps iteratively until convergence. Convergence occurs when the assignment of data points to clusters stabilizes, and centroids no longer change significantly.\n",
    "\n",
    "5. **Final Result:**\n",
    "   - The final result is a set of K clusters, where each cluster is represented by its centroid.\n",
    "   - Each data point belongs to the cluster with the nearest centroid.\n",
    "\n",
    "**Key Concepts:**\n",
    "\n",
    "- **Centroid:** The center of a cluster, defined as the mean of all data points in the cluster.\n",
    "- **Inertia/Within-Cluster Sum of Squares (WCSS):** The sum of squared distances between each data point and its assigned cluster centroid. It is often used to evaluate the quality of the clustering.\n",
    "\n",
    "**Advantages:**\n",
    "- Simple and easy to implement.\n",
    "- Scales well to large datasets.\n",
    "\n",
    "**Limitations:**\n",
    "- Requires the number of clusters (K) to be specified in advance.\n",
    "- Sensitive to the initial placement of centroids, and results may vary with different initializations.\n",
    "- Assumes clusters are spherical and equally sized, which may not always be the case.\n",
    "\n",
    "K-means clustering is a foundational algorithm in machine learning and is widely used in various fields for grouping and analyzing data."
   ]
  },
  {
   "cell_type": "code",
   "execution_count": null,
   "id": "056ed56c",
   "metadata": {},
   "outputs": [],
   "source": []
  }
 ],
 "metadata": {
  "kernelspec": {
   "display_name": "Python 3 (ipykernel)",
   "language": "python",
   "name": "python3"
  },
  "language_info": {
   "codemirror_mode": {
    "name": "ipython",
    "version": 3
   },
   "file_extension": ".py",
   "mimetype": "text/x-python",
   "name": "python",
   "nbconvert_exporter": "python",
   "pygments_lexer": "ipython3",
   "version": "3.9.12"
  }
 },
 "nbformat": 4,
 "nbformat_minor": 5
}
