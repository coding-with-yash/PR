{
 "cells": [
  {
   "cell_type": "code",
   "execution_count": 1,
   "metadata": {},
   "outputs": [],
   "source": [
    "import pandas as pd\n",
    "import numpy as np\n",
    "data=pd.read_csv(\"C:/Users/Admin/Desktop/ML/Final/2.Naive bayes/Iris.csv\")"
   ]
  },
  {
   "cell_type": "code",
   "execution_count": 2,
   "metadata": {},
   "outputs": [
    {
     "name": "stdout",
     "output_type": "stream",
     "text": [
      "[[1.00e+00 5.10e+00 3.50e+00 1.40e+00 2.00e-01]\n",
      " [2.00e+00 4.90e+00 3.00e+00 1.40e+00 2.00e-01]\n",
      " [3.00e+00 4.70e+00 3.20e+00 1.30e+00 2.00e-01]\n",
      " [4.00e+00 4.60e+00 3.10e+00 1.50e+00 2.00e-01]\n",
      " [5.00e+00 5.00e+00 3.60e+00 1.40e+00 2.00e-01]\n",
      " [6.00e+00 5.40e+00 3.90e+00 1.70e+00 4.00e-01]\n",
      " [7.00e+00 4.60e+00 3.40e+00 1.40e+00 3.00e-01]\n",
      " [8.00e+00 5.00e+00 3.40e+00 1.50e+00 2.00e-01]\n",
      " [9.00e+00 4.40e+00 2.90e+00 1.40e+00 2.00e-01]\n",
      " [1.00e+01 4.90e+00 3.10e+00 1.50e+00 1.00e-01]\n",
      " [1.10e+01 5.40e+00 3.70e+00 1.50e+00 2.00e-01]\n",
      " [1.20e+01 4.80e+00 3.40e+00 1.60e+00 2.00e-01]\n",
      " [1.30e+01 4.80e+00 3.00e+00 1.40e+00 1.00e-01]\n",
      " [1.40e+01 4.30e+00 3.00e+00 1.10e+00 1.00e-01]\n",
      " [1.50e+01 5.80e+00 4.00e+00 1.20e+00 2.00e-01]\n",
      " [1.60e+01 5.70e+00 4.40e+00 1.50e+00 4.00e-01]\n",
      " [1.70e+01 5.40e+00 3.90e+00 1.30e+00 4.00e-01]\n",
      " [1.80e+01 5.10e+00 3.50e+00 1.40e+00 3.00e-01]\n",
      " [1.90e+01 5.70e+00 3.80e+00 1.70e+00 3.00e-01]\n",
      " [2.00e+01 5.10e+00 3.80e+00 1.50e+00 3.00e-01]\n",
      " [2.10e+01 5.40e+00 3.40e+00 1.70e+00 2.00e-01]\n",
      " [2.20e+01 5.10e+00 3.70e+00 1.50e+00 4.00e-01]\n",
      " [2.30e+01 4.60e+00 3.60e+00 1.00e+00 2.00e-01]\n",
      " [2.40e+01 5.10e+00 3.30e+00 1.70e+00 5.00e-01]\n",
      " [2.50e+01 4.80e+00 3.40e+00 1.90e+00 2.00e-01]\n",
      " [2.60e+01 5.00e+00 3.00e+00 1.60e+00 2.00e-01]\n",
      " [2.70e+01 5.00e+00 3.40e+00 1.60e+00 4.00e-01]\n",
      " [2.80e+01 5.20e+00 3.50e+00 1.50e+00 2.00e-01]\n",
      " [2.90e+01 5.20e+00 3.40e+00 1.40e+00 2.00e-01]\n",
      " [3.00e+01 4.70e+00 3.20e+00 1.60e+00 2.00e-01]\n",
      " [3.10e+01 4.80e+00 3.10e+00 1.60e+00 2.00e-01]\n",
      " [3.20e+01 5.40e+00 3.40e+00 1.50e+00 4.00e-01]\n",
      " [3.30e+01 5.20e+00 4.10e+00 1.50e+00 1.00e-01]\n",
      " [3.40e+01 5.50e+00 4.20e+00 1.40e+00 2.00e-01]\n",
      " [3.50e+01 4.90e+00 3.10e+00 1.50e+00 1.00e-01]\n",
      " [3.60e+01 5.00e+00 3.20e+00 1.20e+00 2.00e-01]\n",
      " [3.70e+01 5.50e+00 3.50e+00 1.30e+00 2.00e-01]\n",
      " [3.80e+01 4.90e+00 3.10e+00 1.50e+00 1.00e-01]\n",
      " [3.90e+01 4.40e+00 3.00e+00 1.30e+00 2.00e-01]\n",
      " [4.00e+01 5.10e+00 3.40e+00 1.50e+00 2.00e-01]\n",
      " [4.10e+01 5.00e+00 3.50e+00 1.30e+00 3.00e-01]\n",
      " [4.20e+01 4.50e+00 2.30e+00 1.30e+00 3.00e-01]\n",
      " [4.30e+01 4.40e+00 3.20e+00 1.30e+00 2.00e-01]\n",
      " [4.40e+01 5.00e+00 3.50e+00 1.60e+00 6.00e-01]\n",
      " [4.50e+01 5.10e+00 3.80e+00 1.90e+00 4.00e-01]\n",
      " [4.60e+01 4.80e+00 3.00e+00 1.40e+00 3.00e-01]\n",
      " [4.70e+01 5.10e+00 3.80e+00 1.60e+00 2.00e-01]\n",
      " [4.80e+01 4.60e+00 3.20e+00 1.40e+00 2.00e-01]\n",
      " [4.90e+01 5.30e+00 3.70e+00 1.50e+00 2.00e-01]\n",
      " [5.00e+01 5.00e+00 3.30e+00 1.40e+00 2.00e-01]\n",
      " [5.10e+01 7.00e+00 3.20e+00 4.70e+00 1.40e+00]\n",
      " [5.20e+01 6.40e+00 3.20e+00 4.50e+00 1.50e+00]\n",
      " [5.30e+01 6.90e+00 3.10e+00 4.90e+00 1.50e+00]\n",
      " [5.40e+01 5.50e+00 2.30e+00 4.00e+00 1.30e+00]\n",
      " [5.50e+01 6.50e+00 2.80e+00 4.60e+00 1.50e+00]\n",
      " [5.60e+01 5.70e+00 2.80e+00 4.50e+00 1.30e+00]\n",
      " [5.70e+01 6.30e+00 3.30e+00 4.70e+00 1.60e+00]\n",
      " [5.80e+01 4.90e+00 2.40e+00 3.30e+00 1.00e+00]\n",
      " [5.90e+01 6.60e+00 2.90e+00 4.60e+00 1.30e+00]\n",
      " [6.00e+01 5.20e+00 2.70e+00 3.90e+00 1.40e+00]\n",
      " [6.10e+01 5.00e+00 2.00e+00 3.50e+00 1.00e+00]\n",
      " [6.20e+01 5.90e+00 3.00e+00 4.20e+00 1.50e+00]\n",
      " [6.30e+01 6.00e+00 2.20e+00 4.00e+00 1.00e+00]\n",
      " [6.40e+01 6.10e+00 2.90e+00 4.70e+00 1.40e+00]\n",
      " [6.50e+01 5.60e+00 2.90e+00 3.60e+00 1.30e+00]\n",
      " [6.60e+01 6.70e+00 3.10e+00 4.40e+00 1.40e+00]\n",
      " [6.70e+01 5.60e+00 3.00e+00 4.50e+00 1.50e+00]\n",
      " [6.80e+01 5.80e+00 2.70e+00 4.10e+00 1.00e+00]\n",
      " [6.90e+01 6.20e+00 2.20e+00 4.50e+00 1.50e+00]\n",
      " [7.00e+01 5.60e+00 2.50e+00 3.90e+00 1.10e+00]\n",
      " [7.10e+01 5.90e+00 3.20e+00 4.80e+00 1.80e+00]\n",
      " [7.20e+01 6.10e+00 2.80e+00 4.00e+00 1.30e+00]\n",
      " [7.30e+01 6.30e+00 2.50e+00 4.90e+00 1.50e+00]\n",
      " [7.40e+01 6.10e+00 2.80e+00 4.70e+00 1.20e+00]\n",
      " [7.50e+01 6.40e+00 2.90e+00 4.30e+00 1.30e+00]\n",
      " [7.60e+01 6.60e+00 3.00e+00 4.40e+00 1.40e+00]\n",
      " [7.70e+01 6.80e+00 2.80e+00 4.80e+00 1.40e+00]\n",
      " [7.80e+01 6.70e+00 3.00e+00 5.00e+00 1.70e+00]\n",
      " [7.90e+01 6.00e+00 2.90e+00 4.50e+00 1.50e+00]\n",
      " [8.00e+01 5.70e+00 2.60e+00 3.50e+00 1.00e+00]\n",
      " [8.10e+01 5.50e+00 2.40e+00 3.80e+00 1.10e+00]\n",
      " [8.20e+01 5.50e+00 2.40e+00 3.70e+00 1.00e+00]\n",
      " [8.30e+01 5.80e+00 2.70e+00 3.90e+00 1.20e+00]\n",
      " [8.40e+01 6.00e+00 2.70e+00 5.10e+00 1.60e+00]\n",
      " [8.50e+01 5.40e+00 3.00e+00 4.50e+00 1.50e+00]\n",
      " [8.60e+01 6.00e+00 3.40e+00 4.50e+00 1.60e+00]\n",
      " [8.70e+01 6.70e+00 3.10e+00 4.70e+00 1.50e+00]\n",
      " [8.80e+01 6.30e+00 2.30e+00 4.40e+00 1.30e+00]\n",
      " [8.90e+01 5.60e+00 3.00e+00 4.10e+00 1.30e+00]\n",
      " [9.00e+01 5.50e+00 2.50e+00 4.00e+00 1.30e+00]\n",
      " [9.10e+01 5.50e+00 2.60e+00 4.40e+00 1.20e+00]\n",
      " [9.20e+01 6.10e+00 3.00e+00 4.60e+00 1.40e+00]\n",
      " [9.30e+01 5.80e+00 2.60e+00 4.00e+00 1.20e+00]\n",
      " [9.40e+01 5.00e+00 2.30e+00 3.30e+00 1.00e+00]\n",
      " [9.50e+01 5.60e+00 2.70e+00 4.20e+00 1.30e+00]\n",
      " [9.60e+01 5.70e+00 3.00e+00 4.20e+00 1.20e+00]\n",
      " [9.70e+01 5.70e+00 2.90e+00 4.20e+00 1.30e+00]\n",
      " [9.80e+01 6.20e+00 2.90e+00 4.30e+00 1.30e+00]\n",
      " [9.90e+01 5.10e+00 2.50e+00 3.00e+00 1.10e+00]\n",
      " [1.00e+02 5.70e+00 2.80e+00 4.10e+00 1.30e+00]\n",
      " [1.01e+02 6.30e+00 3.30e+00 6.00e+00 2.50e+00]\n",
      " [1.02e+02 5.80e+00 2.70e+00 5.10e+00 1.90e+00]\n",
      " [1.03e+02 7.10e+00 3.00e+00 5.90e+00 2.10e+00]\n",
      " [1.04e+02 6.30e+00 2.90e+00 5.60e+00 1.80e+00]\n",
      " [1.05e+02 6.50e+00 3.00e+00 5.80e+00 2.20e+00]\n",
      " [1.06e+02 7.60e+00 3.00e+00 6.60e+00 2.10e+00]\n",
      " [1.07e+02 4.90e+00 2.50e+00 4.50e+00 1.70e+00]\n",
      " [1.08e+02 7.30e+00 2.90e+00 6.30e+00 1.80e+00]\n",
      " [1.09e+02 6.70e+00 2.50e+00 5.80e+00 1.80e+00]\n",
      " [1.10e+02 7.20e+00 3.60e+00 6.10e+00 2.50e+00]\n",
      " [1.11e+02 6.50e+00 3.20e+00 5.10e+00 2.00e+00]\n",
      " [1.12e+02 6.40e+00 2.70e+00 5.30e+00 1.90e+00]\n",
      " [1.13e+02 6.80e+00 3.00e+00 5.50e+00 2.10e+00]\n",
      " [1.14e+02 5.70e+00 2.50e+00 5.00e+00 2.00e+00]\n",
      " [1.15e+02 5.80e+00 2.80e+00 5.10e+00 2.40e+00]\n",
      " [1.16e+02 6.40e+00 3.20e+00 5.30e+00 2.30e+00]\n",
      " [1.17e+02 6.50e+00 3.00e+00 5.50e+00 1.80e+00]\n",
      " [1.18e+02 7.70e+00 3.80e+00 6.70e+00 2.20e+00]\n",
      " [1.19e+02 7.70e+00 2.60e+00 6.90e+00 2.30e+00]\n",
      " [1.20e+02 6.00e+00 2.20e+00 5.00e+00 1.50e+00]\n",
      " [1.21e+02 6.90e+00 3.20e+00 5.70e+00 2.30e+00]\n",
      " [1.22e+02 5.60e+00 2.80e+00 4.90e+00 2.00e+00]\n",
      " [1.23e+02 7.70e+00 2.80e+00 6.70e+00 2.00e+00]\n",
      " [1.24e+02 6.30e+00 2.70e+00 4.90e+00 1.80e+00]\n",
      " [1.25e+02 6.70e+00 3.30e+00 5.70e+00 2.10e+00]\n",
      " [1.26e+02 7.20e+00 3.20e+00 6.00e+00 1.80e+00]\n",
      " [1.27e+02 6.20e+00 2.80e+00 4.80e+00 1.80e+00]\n",
      " [1.28e+02 6.10e+00 3.00e+00 4.90e+00 1.80e+00]\n",
      " [1.29e+02 6.40e+00 2.80e+00 5.60e+00 2.10e+00]\n",
      " [1.30e+02 7.20e+00 3.00e+00 5.80e+00 1.60e+00]\n",
      " [1.31e+02 7.40e+00 2.80e+00 6.10e+00 1.90e+00]\n",
      " [1.32e+02 7.90e+00 3.80e+00 6.40e+00 2.00e+00]\n",
      " [1.33e+02 6.40e+00 2.80e+00 5.60e+00 2.20e+00]\n",
      " [1.34e+02 6.30e+00 2.80e+00 5.10e+00 1.50e+00]\n",
      " [1.35e+02 6.10e+00 2.60e+00 5.60e+00 1.40e+00]\n",
      " [1.36e+02 7.70e+00 3.00e+00 6.10e+00 2.30e+00]\n",
      " [1.37e+02 6.30e+00 3.40e+00 5.60e+00 2.40e+00]\n",
      " [1.38e+02 6.40e+00 3.10e+00 5.50e+00 1.80e+00]\n",
      " [1.39e+02 6.00e+00 3.00e+00 4.80e+00 1.80e+00]\n",
      " [1.40e+02 6.90e+00 3.10e+00 5.40e+00 2.10e+00]\n",
      " [1.41e+02 6.70e+00 3.10e+00 5.60e+00 2.40e+00]\n",
      " [1.42e+02 6.90e+00 3.10e+00 5.10e+00 2.30e+00]\n",
      " [1.43e+02 5.80e+00 2.70e+00 5.10e+00 1.90e+00]\n",
      " [1.44e+02 6.80e+00 3.20e+00 5.90e+00 2.30e+00]\n",
      " [1.45e+02 6.70e+00 3.30e+00 5.70e+00 2.50e+00]\n",
      " [1.46e+02 6.70e+00 3.00e+00 5.20e+00 2.30e+00]\n",
      " [1.47e+02 6.30e+00 2.50e+00 5.00e+00 1.90e+00]\n",
      " [1.48e+02 6.50e+00 3.00e+00 5.20e+00 2.00e+00]\n",
      " [1.49e+02 6.20e+00 3.40e+00 5.40e+00 2.30e+00]\n",
      " [1.50e+02 5.90e+00 3.00e+00 5.10e+00 1.80e+00]]\n"
     ]
    }
   ],
   "source": [
    "x=data.iloc[:,:-1].values\n",
    "print(x)"
   ]
  },
  {
   "cell_type": "code",
   "execution_count": 3,
   "metadata": {},
   "outputs": [
    {
     "name": "stdout",
     "output_type": "stream",
     "text": [
      "['Iris-setosa' 'Iris-setosa' 'Iris-setosa' 'Iris-setosa' 'Iris-setosa'\n",
      " 'Iris-setosa' 'Iris-setosa' 'Iris-setosa' 'Iris-setosa' 'Iris-setosa'\n",
      " 'Iris-setosa' 'Iris-setosa' 'Iris-setosa' 'Iris-setosa' 'Iris-setosa'\n",
      " 'Iris-setosa' 'Iris-setosa' 'Iris-setosa' 'Iris-setosa' 'Iris-setosa'\n",
      " 'Iris-setosa' 'Iris-setosa' 'Iris-setosa' 'Iris-setosa' 'Iris-setosa'\n",
      " 'Iris-setosa' 'Iris-setosa' 'Iris-setosa' 'Iris-setosa' 'Iris-setosa'\n",
      " 'Iris-setosa' 'Iris-setosa' 'Iris-setosa' 'Iris-setosa' 'Iris-setosa'\n",
      " 'Iris-setosa' 'Iris-setosa' 'Iris-setosa' 'Iris-setosa' 'Iris-setosa'\n",
      " 'Iris-setosa' 'Iris-setosa' 'Iris-setosa' 'Iris-setosa' 'Iris-setosa'\n",
      " 'Iris-setosa' 'Iris-setosa' 'Iris-setosa' 'Iris-setosa' 'Iris-setosa'\n",
      " 'Iris-versicolor' 'Iris-versicolor' 'Iris-versicolor' 'Iris-versicolor'\n",
      " 'Iris-versicolor' 'Iris-versicolor' 'Iris-versicolor' 'Iris-versicolor'\n",
      " 'Iris-versicolor' 'Iris-versicolor' 'Iris-versicolor' 'Iris-versicolor'\n",
      " 'Iris-versicolor' 'Iris-versicolor' 'Iris-versicolor' 'Iris-versicolor'\n",
      " 'Iris-versicolor' 'Iris-versicolor' 'Iris-versicolor' 'Iris-versicolor'\n",
      " 'Iris-versicolor' 'Iris-versicolor' 'Iris-versicolor' 'Iris-versicolor'\n",
      " 'Iris-versicolor' 'Iris-versicolor' 'Iris-versicolor' 'Iris-versicolor'\n",
      " 'Iris-versicolor' 'Iris-versicolor' 'Iris-versicolor' 'Iris-versicolor'\n",
      " 'Iris-versicolor' 'Iris-versicolor' 'Iris-versicolor' 'Iris-versicolor'\n",
      " 'Iris-versicolor' 'Iris-versicolor' 'Iris-versicolor' 'Iris-versicolor'\n",
      " 'Iris-versicolor' 'Iris-versicolor' 'Iris-versicolor' 'Iris-versicolor'\n",
      " 'Iris-versicolor' 'Iris-versicolor' 'Iris-versicolor' 'Iris-versicolor'\n",
      " 'Iris-versicolor' 'Iris-versicolor' 'Iris-virginica' 'Iris-virginica'\n",
      " 'Iris-virginica' 'Iris-virginica' 'Iris-virginica' 'Iris-virginica'\n",
      " 'Iris-virginica' 'Iris-virginica' 'Iris-virginica' 'Iris-virginica'\n",
      " 'Iris-virginica' 'Iris-virginica' 'Iris-virginica' 'Iris-virginica'\n",
      " 'Iris-virginica' 'Iris-virginica' 'Iris-virginica' 'Iris-virginica'\n",
      " 'Iris-virginica' 'Iris-virginica' 'Iris-virginica' 'Iris-virginica'\n",
      " 'Iris-virginica' 'Iris-virginica' 'Iris-virginica' 'Iris-virginica'\n",
      " 'Iris-virginica' 'Iris-virginica' 'Iris-virginica' 'Iris-virginica'\n",
      " 'Iris-virginica' 'Iris-virginica' 'Iris-virginica' 'Iris-virginica'\n",
      " 'Iris-virginica' 'Iris-virginica' 'Iris-virginica' 'Iris-virginica'\n",
      " 'Iris-virginica' 'Iris-virginica' 'Iris-virginica' 'Iris-virginica'\n",
      " 'Iris-virginica' 'Iris-virginica' 'Iris-virginica' 'Iris-virginica'\n",
      " 'Iris-virginica' 'Iris-virginica' 'Iris-virginica' 'Iris-virginica']\n"
     ]
    }
   ],
   "source": [
    "y=data.iloc[:,-1].values\n",
    "print(y)"
   ]
  },
  {
   "cell_type": "code",
   "execution_count": 4,
   "metadata": {},
   "outputs": [
    {
     "name": "stdout",
     "output_type": "stream",
     "text": [
      "[0 0 0 0 0 0 0 0 0 0 0 0 0 0 0 0 0 0 0 0 0 0 0 0 0 0 0 0 0 0 0 0 0 0 0 0 0\n",
      " 0 0 0 0 0 0 0 0 0 0 0 0 0 1 1 1 1 1 1 1 1 1 1 1 1 1 1 1 1 1 1 1 1 1 1 1 1\n",
      " 1 1 1 1 1 1 1 1 1 1 1 1 1 1 1 1 1 1 1 1 1 1 1 1 1 1 2 2 2 2 2 2 2 2 2 2 2\n",
      " 2 2 2 2 2 2 2 2 2 2 2 2 2 2 2 2 2 2 2 2 2 2 2 2 2 2 2 2 2 2 2 2 2 2 2 2 2\n",
      " 2 2]\n"
     ]
    }
   ],
   "source": [
    "#Encoding the category\n",
    "from sklearn.preprocessing import LabelEncoder\n",
    "y=LabelEncoder().fit_transform(y)\n",
    "print(y)"
   ]
  },
  {
   "cell_type": "code",
   "execution_count": 5,
   "metadata": {},
   "outputs": [
    {
     "name": "stdout",
     "output_type": "stream",
     "text": [
      "[[1.50e+01 5.80e+00 4.00e+00 1.20e+00 2.00e-01]\n",
      " [2.50e+01 4.80e+00 3.40e+00 1.90e+00 2.00e-01]\n",
      " [1.40e+02 6.90e+00 3.10e+00 5.40e+00 2.10e+00]\n",
      " [5.90e+01 6.60e+00 2.90e+00 4.60e+00 1.30e+00]\n",
      " [9.00e+00 4.40e+00 2.90e+00 1.40e+00 2.00e-01]\n",
      " [2.80e+01 5.20e+00 3.50e+00 1.50e+00 2.00e-01]\n",
      " [7.80e+01 6.70e+00 3.00e+00 5.00e+00 1.70e+00]\n",
      " [4.20e+01 4.50e+00 2.30e+00 1.30e+00 3.00e-01]\n",
      " [1.12e+02 6.40e+00 2.70e+00 5.30e+00 1.90e+00]\n",
      " [6.90e+01 6.20e+00 2.20e+00 4.50e+00 1.50e+00]\n",
      " [1.29e+02 6.40e+00 2.80e+00 5.60e+00 2.10e+00]\n",
      " [8.30e+01 5.80e+00 2.70e+00 3.90e+00 1.20e+00]\n",
      " [2.30e+01 4.60e+00 3.60e+00 1.00e+00 2.00e-01]\n",
      " [1.80e+01 5.10e+00 3.50e+00 1.40e+00 3.00e-01]\n",
      " [1.28e+02 6.10e+00 3.00e+00 4.90e+00 1.80e+00]\n",
      " [5.20e+01 6.40e+00 3.20e+00 4.50e+00 1.50e+00]\n",
      " [2.40e+01 5.10e+00 3.30e+00 1.70e+00 5.00e-01]\n",
      " [8.40e+01 6.00e+00 2.70e+00 5.10e+00 1.60e+00]\n",
      " [1.43e+02 5.80e+00 2.70e+00 5.10e+00 1.90e+00]\n",
      " [8.50e+01 5.40e+00 3.00e+00 4.50e+00 1.50e+00]\n",
      " [4.60e+01 4.80e+00 3.00e+00 1.40e+00 3.00e-01]\n",
      " [3.60e+01 5.00e+00 3.20e+00 1.20e+00 2.00e-01]\n",
      " [1.02e+02 5.80e+00 2.70e+00 5.10e+00 1.90e+00]\n",
      " [5.10e+01 7.00e+00 3.20e+00 4.70e+00 1.40e+00]\n",
      " [7.40e+01 6.10e+00 2.80e+00 4.70e+00 1.20e+00]\n",
      " [3.50e+01 4.90e+00 3.10e+00 1.50e+00 1.00e-01]\n",
      " [1.37e+02 6.30e+00 3.40e+00 5.60e+00 2.40e+00]\n",
      " [2.00e+01 5.10e+00 3.80e+00 1.50e+00 3.00e-01]\n",
      " [1.17e+02 6.50e+00 3.00e+00 5.50e+00 1.80e+00]\n",
      " [9.70e+01 5.70e+00 2.90e+00 4.20e+00 1.30e+00]\n",
      " [5.00e+00 5.00e+00 3.60e+00 1.40e+00 2.00e-01]\n",
      " [1.30e+01 4.80e+00 3.00e+00 1.40e+00 1.00e-01]\n",
      " [1.44e+02 6.80e+00 3.20e+00 5.90e+00 2.30e+00]\n",
      " [7.10e+01 5.90e+00 3.20e+00 4.80e+00 1.80e+00]\n",
      " [1.10e+01 5.40e+00 3.70e+00 1.50e+00 2.00e-01]\n",
      " [1.20e+01 4.80e+00 3.40e+00 1.60e+00 2.00e-01]\n",
      " [9.90e+01 5.10e+00 2.50e+00 3.00e+00 1.10e+00]\n",
      " [1.38e+02 6.40e+00 3.10e+00 5.50e+00 1.80e+00]\n",
      " [1.01e+02 6.30e+00 3.30e+00 6.00e+00 2.50e+00]\n",
      " [1.00e+01 4.90e+00 3.10e+00 1.50e+00 1.00e-01]\n",
      " [1.25e+02 6.70e+00 3.30e+00 5.70e+00 2.10e+00]\n",
      " [9.60e+01 5.70e+00 3.00e+00 4.20e+00 1.20e+00]\n",
      " [3.00e+01 4.70e+00 3.20e+00 1.60e+00 2.00e-01]\n",
      " [4.00e+01 5.10e+00 3.40e+00 1.50e+00 2.00e-01]\n",
      " [1.31e+02 7.40e+00 2.80e+00 6.10e+00 1.90e+00]\n",
      " [1.18e+02 7.70e+00 3.80e+00 6.70e+00 2.20e+00]\n",
      " [1.15e+02 5.80e+00 2.80e+00 5.10e+00 2.40e+00]\n",
      " [1.00e+02 5.70e+00 2.80e+00 4.10e+00 1.30e+00]\n",
      " [6.00e+01 5.20e+00 2.70e+00 3.90e+00 1.40e+00]\n",
      " [8.80e+01 6.30e+00 2.30e+00 4.40e+00 1.30e+00]\n",
      " [4.50e+01 5.10e+00 3.80e+00 1.90e+00 4.00e-01]\n",
      " [3.70e+01 5.50e+00 3.50e+00 1.30e+00 2.00e-01]\n",
      " [1.16e+02 6.40e+00 3.20e+00 5.30e+00 2.30e+00]\n",
      " [1.45e+02 6.70e+00 3.30e+00 5.70e+00 2.50e+00]\n",
      " [5.30e+01 6.90e+00 3.10e+00 4.90e+00 1.50e+00]\n",
      " [1.03e+02 7.10e+00 3.00e+00 5.90e+00 2.10e+00]\n",
      " [6.20e+01 5.90e+00 3.00e+00 4.20e+00 1.50e+00]\n",
      " [1.23e+02 7.70e+00 2.80e+00 6.70e+00 2.00e+00]\n",
      " [3.10e+01 4.80e+00 3.10e+00 1.60e+00 2.00e-01]\n",
      " [1.34e+02 6.30e+00 2.80e+00 5.10e+00 1.50e+00]\n",
      " [1.40e+01 4.30e+00 3.00e+00 1.10e+00 1.00e-01]\n",
      " [5.60e+01 5.70e+00 2.80e+00 4.50e+00 1.30e+00]\n",
      " [7.60e+01 6.60e+00 3.00e+00 4.40e+00 1.40e+00]\n",
      " [1.33e+02 6.40e+00 2.80e+00 5.60e+00 2.20e+00]\n",
      " [1.49e+02 6.20e+00 3.40e+00 5.40e+00 2.30e+00]\n",
      " [3.30e+01 5.20e+00 4.10e+00 1.50e+00 1.00e-01]\n",
      " [8.10e+01 5.50e+00 2.40e+00 3.80e+00 1.10e+00]\n",
      " [1.70e+01 5.40e+00 3.90e+00 1.30e+00 4.00e-01]\n",
      " [9.20e+01 6.10e+00 3.00e+00 4.60e+00 1.40e+00]\n",
      " [7.50e+01 6.40e+00 2.90e+00 4.30e+00 1.30e+00]\n",
      " [8.60e+01 6.00e+00 3.40e+00 4.50e+00 1.60e+00]\n",
      " [2.00e+00 4.90e+00 3.00e+00 1.40e+00 2.00e-01]\n",
      " [1.26e+02 7.20e+00 3.20e+00 6.00e+00 1.80e+00]\n",
      " [4.70e+01 5.10e+00 3.80e+00 1.60e+00 2.00e-01]\n",
      " [1.09e+02 6.70e+00 2.50e+00 5.80e+00 1.80e+00]\n",
      " [7.20e+01 6.10e+00 2.80e+00 4.00e+00 1.30e+00]\n",
      " [1.46e+02 6.70e+00 3.00e+00 5.20e+00 2.30e+00]\n",
      " [5.70e+01 6.30e+00 3.30e+00 4.70e+00 1.60e+00]\n",
      " [1.22e+02 5.60e+00 2.80e+00 4.90e+00 2.00e+00]\n",
      " [6.40e+01 6.10e+00 2.90e+00 4.70e+00 1.40e+00]\n",
      " [1.90e+01 5.70e+00 3.80e+00 1.70e+00 3.00e-01]\n",
      " [1.06e+02 7.60e+00 3.00e+00 6.60e+00 2.10e+00]\n",
      " [6.50e+01 5.60e+00 2.90e+00 3.60e+00 1.30e+00]\n",
      " [1.48e+02 6.50e+00 3.00e+00 5.20e+00 2.00e+00]\n",
      " [5.50e+01 6.50e+00 2.80e+00 4.60e+00 1.50e+00]\n",
      " [2.90e+01 5.20e+00 3.40e+00 1.40e+00 2.00e-01]\n",
      " [7.90e+01 6.00e+00 2.90e+00 4.50e+00 1.50e+00]\n",
      " [1.47e+02 6.30e+00 2.50e+00 5.00e+00 1.90e+00]\n",
      " [5.00e+01 5.00e+00 3.30e+00 1.40e+00 2.00e-01]\n",
      " [9.50e+01 5.60e+00 2.70e+00 4.20e+00 1.30e+00]\n",
      " [2.10e+01 5.40e+00 3.40e+00 1.70e+00 2.00e-01]\n",
      " [3.80e+01 4.90e+00 3.10e+00 1.50e+00 1.00e-01]\n",
      " [4.90e+01 5.30e+00 3.70e+00 1.50e+00 2.00e-01]\n",
      " [8.00e+01 5.70e+00 2.60e+00 3.50e+00 1.00e+00]\n",
      " [1.24e+02 6.30e+00 2.70e+00 4.90e+00 1.80e+00]\n",
      " [3.40e+01 5.50e+00 4.20e+00 1.40e+00 2.00e-01]\n",
      " [4.40e+01 5.00e+00 3.50e+00 1.60e+00 6.00e-01]\n",
      " [1.21e+02 6.90e+00 3.20e+00 5.70e+00 2.30e+00]\n",
      " [8.00e+00 5.00e+00 3.40e+00 1.50e+00 2.00e-01]\n",
      " [6.30e+01 6.00e+00 2.20e+00 4.00e+00 1.00e+00]\n",
      " [1.50e+02 5.90e+00 3.00e+00 5.10e+00 1.80e+00]\n",
      " [9.80e+01 6.20e+00 2.90e+00 4.30e+00 1.30e+00]\n",
      " [1.11e+02 6.50e+00 3.20e+00 5.10e+00 2.00e+00]\n",
      " [1.05e+02 6.50e+00 3.00e+00 5.80e+00 2.20e+00]\n",
      " [7.00e+01 5.60e+00 2.50e+00 3.90e+00 1.10e+00]\n",
      " [9.10e+01 5.50e+00 2.60e+00 4.40e+00 1.20e+00]\n",
      " [1.30e+02 7.20e+00 3.00e+00 5.80e+00 1.60e+00]\n",
      " [6.10e+01 5.00e+00 2.00e+00 3.50e+00 1.00e+00]\n",
      " [3.00e+00 4.70e+00 3.20e+00 1.30e+00 2.00e-01]\n",
      " [6.70e+01 5.60e+00 3.00e+00 4.50e+00 1.50e+00]\n",
      " [8.20e+01 5.50e+00 2.40e+00 3.70e+00 1.00e+00]\n",
      " [2.70e+01 5.00e+00 3.40e+00 1.60e+00 4.00e-01]\n",
      " [9.40e+01 5.00e+00 2.30e+00 3.30e+00 1.00e+00]\n",
      " [1.20e+02 6.00e+00 2.20e+00 5.00e+00 1.50e+00]\n",
      " [1.39e+02 6.00e+00 3.00e+00 4.80e+00 1.80e+00]\n",
      " [1.08e+02 7.30e+00 2.90e+00 6.30e+00 1.80e+00]\n",
      " [2.20e+01 5.10e+00 3.70e+00 1.50e+00 4.00e-01]\n",
      " [1.00e+00 5.10e+00 3.50e+00 1.40e+00 2.00e-01]\n",
      " [1.32e+02 7.90e+00 3.80e+00 6.40e+00 2.00e+00]\n",
      " [1.07e+02 4.90e+00 2.50e+00 4.50e+00 1.70e+00]]\n",
      "[0 0 2 1 0 0 1 0 2 1 2 1 0 0 2 1 0 1 2 1 0 0 2 1 1 0 2 0 2 1 0 0 2 1 0 0 1\n",
      " 2 2 0 2 1 0 0 2 2 2 1 1 1 0 0 2 2 1 2 1 2 0 2 0 1 1 2 2 0 1 0 1 1 1 0 2 0\n",
      " 2 1 2 1 2 1 0 2 1 2 1 0 1 2 0 1 0 0 0 1 2 0 0 2 0 1 2 1 2 2 1 1 2 1 0 1 1\n",
      " 0 1 2 2 2 0 0 2 2]\n"
     ]
    }
   ],
   "source": [
    "#split train and test data\n",
    "from sklearn.model_selection import train_test_split\n",
    "x_train,x_test,y_train,y_test=train_test_split(x,y,test_size=0.2,random_state=3)\n",
    "print(x_train)\n",
    "print(y_train)"
   ]
  },
  {
   "cell_type": "code",
   "execution_count": 6,
   "metadata": {},
   "outputs": [
    {
     "data": {
      "text/plain": [
       "GaussianNB()"
      ]
     },
     "execution_count": 6,
     "metadata": {},
     "output_type": "execute_result"
    }
   ],
   "source": [
    "#trian the model\n",
    "from sklearn.naive_bayes import GaussianNB\n",
    "gnb=GaussianNB()\n",
    "gnb.fit(x_train,y_train)"
   ]
  },
  {
   "cell_type": "code",
   "execution_count": 7,
   "metadata": {},
   "outputs": [
    {
     "name": "stdout",
     "output_type": "stream",
     "text": [
      "Predicted Value by model  [0 0 0 0 0 2 1 0 2 1 1 0 1 1 2 0 1 2 2 0 2 2 2 1 0 2 2 1 1 1]\n",
      "Actual value in dataset   [0 0 0 0 0 2 1 0 2 1 1 0 1 1 2 0 1 2 2 0 2 2 2 1 0 2 2 1 1 1]\n"
     ]
    }
   ],
   "source": [
    "#Prediction using Baye\n",
    "y_predict=gnb.predict(x_test)\n",
    "print(\"Predicted Value by model \",y_predict)\n",
    "print(\"Actual value in dataset  \",y_test)"
   ]
  },
  {
   "cell_type": "code",
   "execution_count": 8,
   "metadata": {},
   "outputs": [
    {
     "name": "stdout",
     "output_type": "stream",
     "text": [
      "confusion matrix \n",
      " [[10  0  0]\n",
      " [ 0 10  0]\n",
      " [ 0  0 10]]\n"
     ]
    }
   ],
   "source": [
    "#confusion matrix\n",
    "from sklearn.metrics import confusion_matrix\n",
    "confusion_mat=confusion_matrix(y_test,y_predict)\n",
    "print(\"confusion matrix \\n\",confusion_mat)"
   ]
  },
  {
   "cell_type": "code",
   "execution_count": 9,
   "metadata": {},
   "outputs": [
    {
     "name": "stdout",
     "output_type": "stream",
     "text": [
      "Accuracy of Gaussian Model 100.0\n"
     ]
    }
   ],
   "source": [
    "#Classifier Accuracy\n",
    "from sklearn.metrics import accuracy_score\n",
    "accuracy=accuracy_score(y_test,y_predict)*100\n",
    "print(\"Accuracy of Gaussian Model\",accuracy)"
   ]
  },
  {
   "cell_type": "code",
   "execution_count": 10,
   "metadata": {},
   "outputs": [
    {
     "data": {
      "text/plain": [
       "'input=[5.1, 3.5 ,1.4, 0.2]\\noutput=gnb.predict(input)\\nprint(\"predicted output\\n\",output)'"
      ]
     },
     "execution_count": 10,
     "metadata": {},
     "output_type": "execute_result"
    }
   ],
   "source": [
    "'''input=[5.1, 3.5 ,1.4, 0.2]\n",
    "output=gnb.predict(input)\n",
    "print(\"predicted output\\n\",output)'''"
   ]
  },
  {
   "cell_type": "markdown",
   "metadata": {},
   "source": [
    "Naive Bayes classification is a machine learning algorithm based on Bayes' theorem, which is a probability theory developed by Reverend Thomas Bayes. The \"naive\" in Naive Bayes comes from the assumption that features used to describe an observation are conditionally independent, given the class label. This assumption simplifies the computation and makes the algorithm computationally efficient.\n",
    "\n",
    "Here's a step-by-step explanation of how Naive Bayes classification works:\n",
    "\n",
    "Bayes' Theorem:\n",
    "The algorithm is based on Bayes' theorem, which calculates the probability of a hypothesis given the observed evidence. The formula for Bayes' theorem is as follows:\n",
    "P(A∣B)= P(B∣A)⋅P(A)/P(B)\n",
    "\n",
    "P(A∣B) is the probability of event A given that event B has occurred.\n",
    "\n",
    "P(B∣A) is the probability of event B given that event A has occurred.\n",
    "\n",
    "P(A) and P(B) are the probabilities of events A and B occurring, respectively.\n"
   ]
  },
  {
   "cell_type": "markdown",
   "metadata": {},
   "source": [
    "Naive Bayes classification has found application in various domains, particularly in natural language processing and text classification due to its simplicity and efficiency. Here are some common applications:\n",
    "\n",
    "1. **Spam Email Filtering:**\n",
    "   Naive Bayes is widely used for spam email filtering. By analyzing the content and features of emails, the algorithm can classify them as either spam or non-spam based on the likelihood of certain words or patterns occurring in spam emails.\n",
    "\n",
    "2. **Sentiment Analysis:**\n",
    "   In sentiment analysis, Naive Bayes can be used to determine the sentiment of a piece of text, such as a review or a social media post. It classifies the text as positive, negative, or neutral based on the occurrence of certain words or phrases associated with sentiment.\n",
    "\n",
    "3. **Document Classification:**\n",
    "   Naive Bayes is employed for categorizing documents into predefined categories. For instance, news articles can be classified into topics like sports, politics, or entertainment based on the words present in the articles.\n",
    "\n",
    "4. **Medical Diagnosis:**\n",
    "   In the medical field, Naive Bayes has been used for diagnostic purposes. By considering various symptoms and test results as features, the algorithm can help in predicting the likelihood of a patient having a particular medical condition.\n",
    "\n",
    "5. **Credit Scoring:**\n",
    "   Naive Bayes can be applied to credit scoring, where it helps evaluate the creditworthiness of individuals by considering various financial and personal features. This aids in deciding whether to approve or deny a loan application.\n",
    "\n",
    "6. **Fraud Detection:**\n",
    "   Naive Bayes is used in fraud detection systems to identify potentially fraudulent activities. By analyzing patterns and features in transactions, the algorithm can flag or block transactions that are likely to be fraudulent.\n",
    "\n",
    "7. **Authorship Attribution:**\n",
    "   Naive Bayes can be applied to determine the likely authorship of a document based on writing style and word choices. This is useful in forensic linguistics and literary studies.\n",
    "\n",
    "8. **Customer Support Ticket Classification:**\n",
    "   In customer support systems, Naive Bayes can help classify incoming support tickets into predefined categories, allowing for more efficient routing and resolution of customer issues.\n",
    "\n",
    "9. **Weather Prediction:**\n",
    "   In meteorology, Naive Bayes has been used for weather prediction by considering various atmospheric features. It helps in classifying weather conditions, such as predicting whether it will rain or not.\n",
    "\n",
    "While Naive Bayes has its limitations, such as the assumption of feature independence, it remains a popular choice for certain applications, especially where interpretability and simplicity are important considerations."
   ]
  }
 ],
 "metadata": {
  "kernelspec": {
   "display_name": "Python 3 (ipykernel)",
   "language": "python",
   "name": "python3"
  },
  "language_info": {
   "codemirror_mode": {
    "name": "ipython",
    "version": 3
   },
   "file_extension": ".py",
   "mimetype": "text/x-python",
   "name": "python",
   "nbconvert_exporter": "python",
   "pygments_lexer": "ipython3",
   "version": "3.9.12"
  }
 },
 "nbformat": 4,
 "nbformat_minor": 2
}
