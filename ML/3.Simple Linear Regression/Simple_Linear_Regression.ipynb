{
 "cells": [
  {
   "cell_type": "markdown",
   "id": "736bd98c",
   "metadata": {},
   "source": [
    "Simple Linear Regression"
   ]
  },
  {
   "cell_type": "markdown",
   "id": "590c3744",
   "metadata": {},
   "source": [
    "Step 1: Download the Dataset"
   ]
  },
  {
   "cell_type": "markdown",
   "id": "09ceab68",
   "metadata": {},
   "source": [
    "Step 2: Install Required Libraries"
   ]
  },
  {
   "cell_type": "markdown",
   "id": "9a4a43d4",
   "metadata": {},
   "source": [
    "Step 3: Load and Explore the Dataset"
   ]
  },
  {
   "cell_type": "code",
   "execution_count": 1,
   "id": "2810f240",
   "metadata": {},
   "outputs": [
    {
     "name": "stdout",
     "output_type": "stream",
     "text": [
      "                  Formatted Date        Summary Precip Type  Temperature (C)  \\\n",
      "0  2006-04-01 00:00:00.000 +0200  Partly Cloudy        rain         9.472222   \n",
      "1  2006-04-01 01:00:00.000 +0200  Partly Cloudy        rain         9.355556   \n",
      "2  2006-04-01 02:00:00.000 +0200  Mostly Cloudy        rain         9.377778   \n",
      "3  2006-04-01 03:00:00.000 +0200  Partly Cloudy        rain         8.288889   \n",
      "4  2006-04-01 04:00:00.000 +0200  Mostly Cloudy        rain         8.755556   \n",
      "\n",
      "   Apparent Temperature (C)  Humidity  Wind Speed (km/h)  \\\n",
      "0                  7.388889      0.89            14.1197   \n",
      "1                  7.227778      0.86            14.2646   \n",
      "2                  9.377778      0.89             3.9284   \n",
      "3                  5.944444      0.83            14.1036   \n",
      "4                  6.977778      0.83            11.0446   \n",
      "\n",
      "   Wind Bearing (degrees)  Visibility (km)  Loud Cover  Pressure (millibars)  \\\n",
      "0                   251.0          15.8263         0.0               1015.13   \n",
      "1                   259.0          15.8263         0.0               1015.63   \n",
      "2                   204.0          14.9569         0.0               1015.94   \n",
      "3                   269.0          15.8263         0.0               1016.41   \n",
      "4                   259.0          15.8263         0.0               1016.51   \n",
      "\n",
      "                       Daily Summary  \n",
      "0  Partly cloudy throughout the day.  \n",
      "1  Partly cloudy throughout the day.  \n",
      "2  Partly cloudy throughout the day.  \n",
      "3  Partly cloudy throughout the day.  \n",
      "4  Partly cloudy throughout the day.  \n"
     ]
    }
   ],
   "source": [
    "import pandas as pd\n",
    "\n",
    "# Load the dataset\n",
    "file_path = \"C:/Users/Admin/Desktop/ML/3/weatherHistory.csv\"\n",
    "data = pd.read_csv(file_path)\n",
    "\n",
    "# Display the first few rows of the dataset\n",
    "print(data.head())\n"
   ]
  },
  {
   "cell_type": "markdown",
   "id": "83ed89a6",
   "metadata": {},
   "source": [
    "Step 4: Prepare Data for Linear Regression"
   ]
  },
  {
   "cell_type": "code",
   "execution_count": 2,
   "id": "fa6241e8",
   "metadata": {},
   "outputs": [],
   "source": [
    "# Extract relevant columns\n",
    "X = data[['Humidity']]\n",
    "y = data['Apparent Temperature (C)']\n"
   ]
  },
  {
   "cell_type": "markdown",
   "id": "f8c67c48",
   "metadata": {},
   "source": [
    "Step 5: Split the Data into Training and Testing Sets"
   ]
  },
  {
   "cell_type": "code",
   "execution_count": 3,
   "id": "1305abf0",
   "metadata": {},
   "outputs": [],
   "source": [
    "from sklearn.model_selection import train_test_split\n",
    "\n",
    "X_train, X_test, y_train, y_test = train_test_split(X, y, test_size=0.2, random_state=42)\n"
   ]
  },
  {
   "cell_type": "markdown",
   "id": "1598c41a",
   "metadata": {},
   "source": [
    "Step 6: Train the Linear Regression Model"
   ]
  },
  {
   "cell_type": "code",
   "execution_count": 4,
   "id": "8fd62081",
   "metadata": {},
   "outputs": [
    {
     "data": {
      "text/plain": [
       "LinearRegression()"
      ]
     },
     "execution_count": 4,
     "metadata": {},
     "output_type": "execute_result"
    }
   ],
   "source": [
    "from sklearn.linear_model import LinearRegression\n",
    "\n",
    "# Create a linear regression model\n",
    "model = LinearRegression()\n",
    "\n",
    "# Train the model\n",
    "model.fit(X_train, y_train)\n"
   ]
  },
  {
   "cell_type": "markdown",
   "id": "3b6a3deb",
   "metadata": {},
   "source": [
    "Step 7: Make Predictions and Evaluate the Model"
   ]
  },
  {
   "cell_type": "code",
   "execution_count": 5,
   "id": "f76505fc",
   "metadata": {},
   "outputs": [
    {
     "name": "stdout",
     "output_type": "stream",
     "text": [
      "Mean Squared Error (MSE): 74.19147075318766\n",
      "Mean Absolute Error (MAE): 7.0082494110331695\n",
      "R-Squared (R2): 0.3587532329296208\n"
     ]
    }
   ],
   "source": [
    "from sklearn.metrics import mean_squared_error, mean_absolute_error, r2_score\n",
    "\n",
    "# Make predictions on the test set\n",
    "y_pred = model.predict(X_test)\n",
    "\n",
    "# Evaluate the model\n",
    "mse = mean_squared_error(y_test, y_pred)\n",
    "mae = mean_absolute_error(y_test, y_pred)\n",
    "r2 = r2_score(y_test, y_pred)\n",
    "\n",
    "print(f'Mean Squared Error (MSE): {mse}')\n",
    "print(f'Mean Absolute Error (MAE): {mae}')\n",
    "print(f'R-Squared (R2): {r2}')\n"
   ]
  },
  {
   "cell_type": "markdown",
   "id": "4f750a1b",
   "metadata": {},
   "source": [
    "Step 8: Visualize the Regression Model"
   ]
  },
  {
   "cell_type": "code",
   "execution_count": 8,
   "id": "bf8f39c6",
   "metadata": {},
   "outputs": [
    {
     "data": {
      "image/png": "[encoded data removed]",
      "text/plain": [
       "<Figure size 432x288 with 1 Axes>"
      ]
     },
     "metadata": {
      "needs_background": "light"
     },
     "output_type": "display_data"
    }
   ],
   "source": [
    "# Plot the regression line\n",
    "plt.scatter(X_test.values, y_test.values, color='black')\n",
    "plt.plot(X_test.values, y_pred, color='blue', linewidth=3)\n",
    "plt.xlabel('Humidity')\n",
    "plt.ylabel('Apparent Temperature (C)')\n",
    "plt.title('Simple Linear Regression Model')\n",
    "plt.show()\n"
   ]
  },
  {
   "cell_type": "markdown",
   "id": "a252233d",
   "metadata": {},
   "source": [
    "1. What is Simple Linear Regression?\n",
    "\n",
    "**Answer:**\n",
    "Simple Linear Regression is a statistical method that allows us to summarize and study the relationship between two continuous variables. It assumes that there is a linear relationship between the independent variable (predictor) and the dependent variable (response). The method aims to find the best-fitting line through the data points that minimizes the sum of squared differences between the observed and predicted values.\n",
    "\n",
    "2. Why is Simple Linear Regression Used?\n",
    "\n",
    "**Answer:**\n",
    "Simple Linear Regression is used to model the relationship between two variables when it is believed that one variable (independent) influences the other (dependent) in a linear way. It is particularly useful for predicting the value of the dependent variable based on the value of the independent variable.\n",
    "\n",
    "\n",
    "3. **What is the Purpose of Splitting the Data into Training and Testing Sets?**\n",
    "\n",
    "**Answer:**\n",
    "The purpose of splitting the data into training and testing sets is to assess the performance of the model on new, unseen data. The model is trained on the training set and then evaluated on the testing set to estimate how well it will generalize to new, unseen data. This helps to avoid overfitting, where the model performs well on the training data but fails to generalize to new data.\n",
    "\n",
    "4. **What are Mean Squared Error (MSE), Mean Absolute Error (MAE), and R-Squared (R2) Metrics?**\n",
    "\n",
    "**Answer:**\n",
    "- Mean Squared Error (MSE): It measures the average squared difference between the actual and predicted values. A lower MSE indicates better model performance.\n",
    "    \n",
    "          n\n",
    "MSE = 1/n ∑   (yi - y^)^2\n",
    "          i=1\n",
    "  \n",
    "- **Mean Absolute Error (MAE):** It measures the average absolute difference between the actual and predicted values. Like MSE, a lower MAE indicates better model performance.\n",
    "\n",
    "    \n",
    "          n\n",
    "MAE = 1/n ∑   |yi - y^|\n",
    "          i=1\n",
    "\n",
    "\n",
    "- **R-Squared (R2):** It represents the proportion of the variance in the dependent variable that is predictable from the independent variable(s). R2 values range from 0 to 1, with 1 indicating a perfect fit.\n",
    "        \n",
    "          ∑ (yi - y^)^2\n",
    "R^2 = 1 - ___________\n",
    "          ∑ (yi - y-)^2\n",
    "          \n",
    "                                 ________\n",
    "(Root Mean Square Error RMSE) = / MSE\n",
    "\n",
    "\n",
    "5. **Explain the Steps Involved in Visualizing a Simple Linear Regression Model.**\n",
    "\n",
    "Answer:\n",
    "1. Scatter Plot:** Plot the scatter plot of the independent variable (e.g., Humidity) against the dependent variable (e.g., Apparent Temperature) to visualize the data distribution.\n",
    "\n",
    "2. **Regression Line:** Plot the regression line based on the trained model's coefficients. The line represents the best fit through the data points.\n",
    "\n",
    "3. **Labels and Title:** Add labels to the x-axis and y-axis for clarity. Include a title that describes the purpose of the plot, such as \"Simple Linear Regression Model.\"\n",
    "\n",
    "4. **Show the Plot:** Display the plot to visualize how well the regression line fits the data points."
   ]
  }
 ],
 "metadata": {
  "kernelspec": {
   "display_name": "Python 3 (ipykernel)",
   "language": "python",
   "name": "python3"
  },
  "language_info": {
   "codemirror_mode": {
    "name": "ipython",
    "version": 3
   },
   "file_extension": ".py",
   "mimetype": "text/x-python",
   "name": "python",
   "nbconvert_exporter": "python",
   "pygments_lexer": "ipython3",
   "version": "3.9.12"
  }
 },
 "nbformat": 4,
 "nbformat_minor": 5
}
