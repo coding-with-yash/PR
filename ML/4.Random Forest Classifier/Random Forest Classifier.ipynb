{
 "cells": [
  {
   "cell_type": "markdown",
   "metadata": {},
   "source": [
    "# Car Evaluation Classification"
   ]
  },
  {
   "cell_type": "markdown",
   "metadata": {},
   "source": [
    "### Importing the dataset"
   ]
  },
  {
   "cell_type": "code",
   "execution_count": 1,
   "metadata": {},
   "outputs": [],
   "source": [
    "# Common Python packages that will be used throughout project.\n",
    "import pandas as pd\n",
    "import numpy as np\n",
    "import matplotlib.pyplot as plt\n",
    "import seaborn as sns"
   ]
  },
  {
   "cell_type": "code",
   "execution_count": 4,
   "metadata": {},
   "outputs": [],
   "source": [
    "# List of column names. A header needs to be added because the raw data does not contain one.\n",
    "col_names = ['buying', 'maint', 'doors', 'persons', 'lug_boot', 'safety', 'class']\n",
    "# Create DataFrame from the dataset.\n",
    "df = pd.read_csv('C:/Users/Admin/Desktop/ML/4/Final/car-evaluation-ML/car.data.csv', header=None, names=col_names)"
   ]
  },
  {
   "cell_type": "code",
   "execution_count": 5,
   "metadata": {},
   "outputs": [
    {
     "data": {
      "text/html": [
       "<div>\n",
       "<style scoped>\n",
       "    .dataframe tbody tr th:only-of-type {\n",
       "        vertical-align: middle;\n",
       "    }\n",
       "\n",
       "    .dataframe tbody tr th {\n",
       "        vertical-align: top;\n",
       "    }\n",
       "\n",
       "    .dataframe thead th {\n",
       "        text-align: right;\n",
       "    }\n",
       "</style>\n",
       "<table border=\"1\" class=\"dataframe\">\n",
       "  <thead>\n",
       "    <tr style=\"text-align: right;\">\n",
       "      <th></th>\n",
       "      <th>buying</th>\n",
       "      <th>maint</th>\n",
       "      <th>doors</th>\n",
       "      <th>persons</th>\n",
       "      <th>lug_boot</th>\n",
       "      <th>safety</th>\n",
       "      <th>class</th>\n",
       "    </tr>\n",
       "  </thead>\n",
       "  <tbody>\n",
       "    <tr>\n",
       "      <th>0</th>\n",
       "      <td>vhigh</td>\n",
       "      <td>vhigh</td>\n",
       "      <td>2</td>\n",
       "      <td>2</td>\n",
       "      <td>small</td>\n",
       "      <td>low</td>\n",
       "      <td>unacc</td>\n",
       "    </tr>\n",
       "    <tr>\n",
       "      <th>1</th>\n",
       "      <td>vhigh</td>\n",
       "      <td>vhigh</td>\n",
       "      <td>2</td>\n",
       "      <td>2</td>\n",
       "      <td>small</td>\n",
       "      <td>med</td>\n",
       "      <td>unacc</td>\n",
       "    </tr>\n",
       "    <tr>\n",
       "      <th>2</th>\n",
       "      <td>vhigh</td>\n",
       "      <td>vhigh</td>\n",
       "      <td>2</td>\n",
       "      <td>2</td>\n",
       "      <td>small</td>\n",
       "      <td>high</td>\n",
       "      <td>unacc</td>\n",
       "    </tr>\n",
       "    <tr>\n",
       "      <th>3</th>\n",
       "      <td>vhigh</td>\n",
       "      <td>vhigh</td>\n",
       "      <td>2</td>\n",
       "      <td>2</td>\n",
       "      <td>med</td>\n",
       "      <td>low</td>\n",
       "      <td>unacc</td>\n",
       "    </tr>\n",
       "    <tr>\n",
       "      <th>4</th>\n",
       "      <td>vhigh</td>\n",
       "      <td>vhigh</td>\n",
       "      <td>2</td>\n",
       "      <td>2</td>\n",
       "      <td>med</td>\n",
       "      <td>med</td>\n",
       "      <td>unacc</td>\n",
       "    </tr>\n",
       "  </tbody>\n",
       "</table>\n",
       "</div>"
      ],
      "text/plain": [
       "  buying  maint doors persons lug_boot safety  class\n",
       "0  vhigh  vhigh     2       2    small    low  unacc\n",
       "1  vhigh  vhigh     2       2    small    med  unacc\n",
       "2  vhigh  vhigh     2       2    small   high  unacc\n",
       "3  vhigh  vhigh     2       2      med    low  unacc\n",
       "4  vhigh  vhigh     2       2      med    med  unacc"
      ]
     },
     "execution_count": 5,
     "metadata": {},
     "output_type": "execute_result"
    }
   ],
   "source": [
    "# Display the first five rows of the DataFrame.\n",
    "df.head()"
   ]
  },
  {
   "cell_type": "code",
   "execution_count": 6,
   "metadata": {
    "scrolled": true
   },
   "outputs": [
    {
     "name": "stdout",
     "output_type": "stream",
     "text": [
      "<class 'pandas.core.frame.DataFrame'>\n",
      "RangeIndex: 1728 entries, 0 to 1727\n",
      "Data columns (total 7 columns):\n",
      " #   Column    Non-Null Count  Dtype \n",
      "---  ------    --------------  ----- \n",
      " 0   buying    1728 non-null   object\n",
      " 1   maint     1728 non-null   object\n",
      " 2   doors     1728 non-null   object\n",
      " 3   persons   1728 non-null   object\n",
      " 4   lug_boot  1728 non-null   object\n",
      " 5   safety    1728 non-null   object\n",
      " 6   class     1728 non-null   object\n",
      "dtypes: object(7)\n",
      "memory usage: 94.6+ KB\n"
     ]
    }
   ],
   "source": [
    "# Get a summary of the DataFrame.\n",
    "df.info()"
   ]
  },
  {
   "cell_type": "code",
   "execution_count": 7,
   "metadata": {
    "scrolled": false
   },
   "outputs": [
    {
     "name": "stdout",
     "output_type": "stream",
     "text": [
      "buying: 4 values, ['vhigh' 'high' 'med' 'low']\n",
      "maint: 4 values, ['vhigh' 'high' 'med' 'low']\n",
      "doors: 4 values, ['2' '3' '4' '5more']\n",
      "persons: 3 values, ['2' '4' 'more']\n",
      "lug_boot: 3 values, ['small' 'med' 'big']\n",
      "safety: 3 values, ['low' 'med' 'high']\n"
     ]
    }
   ],
   "source": [
    "# Get a count of the number of unique values for each feature column in the DataFrame.\n",
    "feature_names = list(df.columns.values[:-1])\n",
    "for feature in feature_names:\n",
    "    unique_count = df[feature].nunique()\n",
    "    unique_vals = df[feature].unique()\n",
    "    print(\"{}: {} values, {}\".format(feature, unique_count, unique_vals))"
   ]
  },
  {
   "cell_type": "code",
   "execution_count": 8,
   "metadata": {},
   "outputs": [
    {
     "name": "stdout",
     "output_type": "stream",
     "text": [
      "class: 4 values, ['unacc' 'acc' 'vgood' 'good']\n"
     ]
    }
   ],
   "source": [
    "# Get a count of the number of unique values for the label column.\n",
    "label_name = df.columns.values[-1]\n",
    "print(\"{}: {} values, {}\".format(label_name, df[label_name].nunique(), df[label_name].unique()))"
   ]
  },
  {
   "cell_type": "markdown",
   "metadata": {},
   "source": [
    "There are four unique values in the label column and like the feature columns they are ordinal."
   ]
  },
  {
   "cell_type": "code",
   "execution_count": 9,
   "metadata": {},
   "outputs": [
    {
     "data": {
      "text/plain": [
       "unacc    1210\n",
       "acc       384\n",
       "good       69\n",
       "vgood      65\n",
       "Name: class, dtype: int64"
      ]
     },
     "execution_count": 9,
     "metadata": {},
     "output_type": "execute_result"
    }
   ],
   "source": [
    "# Display total counts for each of the unique values in the label column.\n",
    "df[label_name].value_counts()"
   ]
  },
  {
   "cell_type": "markdown",
   "metadata": {},
   "source": [
    "This dataset is clearly dominated by unacceptable cars!"
   ]
  },
  {
   "cell_type": "markdown",
   "metadata": {},
   "source": [
    "### Encoding the data"
   ]
  },
  {
   "cell_type": "code",
   "execution_count": 10,
   "metadata": {},
   "outputs": [
    {
     "data": {
      "text/html": [
       "<div>\n",
       "<style scoped>\n",
       "    .dataframe tbody tr th:only-of-type {\n",
       "        vertical-align: middle;\n",
       "    }\n",
       "\n",
       "    .dataframe tbody tr th {\n",
       "        vertical-align: top;\n",
       "    }\n",
       "\n",
       "    .dataframe thead th {\n",
       "        text-align: right;\n",
       "    }\n",
       "</style>\n",
       "<table border=\"1\" class=\"dataframe\">\n",
       "  <thead>\n",
       "    <tr style=\"text-align: right;\">\n",
       "      <th></th>\n",
       "      <th>class</th>\n",
       "      <th>buying_low</th>\n",
       "      <th>buying_med</th>\n",
       "      <th>buying_vhigh</th>\n",
       "      <th>maint_low</th>\n",
       "      <th>maint_med</th>\n",
       "      <th>maint_vhigh</th>\n",
       "      <th>doors_3</th>\n",
       "      <th>doors_4</th>\n",
       "      <th>doors_5more</th>\n",
       "      <th>persons_4</th>\n",
       "      <th>persons_more</th>\n",
       "      <th>lug_boot_med</th>\n",
       "      <th>lug_boot_small</th>\n",
       "      <th>safety_low</th>\n",
       "      <th>safety_med</th>\n",
       "    </tr>\n",
       "  </thead>\n",
       "  <tbody>\n",
       "    <tr>\n",
       "      <th>1723</th>\n",
       "      <td>good</td>\n",
       "      <td>1</td>\n",
       "      <td>0</td>\n",
       "      <td>0</td>\n",
       "      <td>1</td>\n",
       "      <td>0</td>\n",
       "      <td>0</td>\n",
       "      <td>0</td>\n",
       "      <td>0</td>\n",
       "      <td>1</td>\n",
       "      <td>0</td>\n",
       "      <td>1</td>\n",
       "      <td>1</td>\n",
       "      <td>0</td>\n",
       "      <td>0</td>\n",
       "      <td>1</td>\n",
       "    </tr>\n",
       "    <tr>\n",
       "      <th>1724</th>\n",
       "      <td>vgood</td>\n",
       "      <td>1</td>\n",
       "      <td>0</td>\n",
       "      <td>0</td>\n",
       "      <td>1</td>\n",
       "      <td>0</td>\n",
       "      <td>0</td>\n",
       "      <td>0</td>\n",
       "      <td>0</td>\n",
       "      <td>1</td>\n",
       "      <td>0</td>\n",
       "      <td>1</td>\n",
       "      <td>1</td>\n",
       "      <td>0</td>\n",
       "      <td>0</td>\n",
       "      <td>0</td>\n",
       "    </tr>\n",
       "    <tr>\n",
       "      <th>1725</th>\n",
       "      <td>unacc</td>\n",
       "      <td>1</td>\n",
       "      <td>0</td>\n",
       "      <td>0</td>\n",
       "      <td>1</td>\n",
       "      <td>0</td>\n",
       "      <td>0</td>\n",
       "      <td>0</td>\n",
       "      <td>0</td>\n",
       "      <td>1</td>\n",
       "      <td>0</td>\n",
       "      <td>1</td>\n",
       "      <td>0</td>\n",
       "      <td>0</td>\n",
       "      <td>1</td>\n",
       "      <td>0</td>\n",
       "    </tr>\n",
       "    <tr>\n",
       "      <th>1726</th>\n",
       "      <td>good</td>\n",
       "      <td>1</td>\n",
       "      <td>0</td>\n",
       "      <td>0</td>\n",
       "      <td>1</td>\n",
       "      <td>0</td>\n",
       "      <td>0</td>\n",
       "      <td>0</td>\n",
       "      <td>0</td>\n",
       "      <td>1</td>\n",
       "      <td>0</td>\n",
       "      <td>1</td>\n",
       "      <td>0</td>\n",
       "      <td>0</td>\n",
       "      <td>0</td>\n",
       "      <td>1</td>\n",
       "    </tr>\n",
       "    <tr>\n",
       "      <th>1727</th>\n",
       "      <td>vgood</td>\n",
       "      <td>1</td>\n",
       "      <td>0</td>\n",
       "      <td>0</td>\n",
       "      <td>1</td>\n",
       "      <td>0</td>\n",
       "      <td>0</td>\n",
       "      <td>0</td>\n",
       "      <td>0</td>\n",
       "      <td>1</td>\n",
       "      <td>0</td>\n",
       "      <td>1</td>\n",
       "      <td>0</td>\n",
       "      <td>0</td>\n",
       "      <td>0</td>\n",
       "      <td>0</td>\n",
       "    </tr>\n",
       "  </tbody>\n",
       "</table>\n",
       "</div>"
      ],
      "text/plain": [
       "      class  buying_low  buying_med  buying_vhigh  maint_low  maint_med  \\\n",
       "1723   good           1           0             0          1          0   \n",
       "1724  vgood           1           0             0          1          0   \n",
       "1725  unacc           1           0             0          1          0   \n",
       "1726   good           1           0             0          1          0   \n",
       "1727  vgood           1           0             0          1          0   \n",
       "\n",
       "      maint_vhigh  doors_3  doors_4  doors_5more  persons_4  persons_more  \\\n",
       "1723            0        0        0            1          0             1   \n",
       "1724            0        0        0            1          0             1   \n",
       "1725            0        0        0            1          0             1   \n",
       "1726            0        0        0            1          0             1   \n",
       "1727            0        0        0            1          0             1   \n",
       "\n",
       "      lug_boot_med  lug_boot_small  safety_low  safety_med  \n",
       "1723             1               0           0           1  \n",
       "1724             1               0           0           0  \n",
       "1725             0               0           1           0  \n",
       "1726             0               0           0           1  \n",
       "1727             0               0           0           0  "
      ]
     },
     "execution_count": 10,
     "metadata": {},
     "output_type": "execute_result"
    }
   ],
   "source": [
    "# Create dummy columns for the categorical features. The drop_first parameter takes care of the k-1 explained above.\n",
    "df_encoded = pd.get_dummies(df, columns=feature_names, drop_first=True)\n",
    "df_encoded.tail()"
   ]
  },
  {
   "cell_type": "code",
   "execution_count": 11,
   "metadata": {},
   "outputs": [
    {
     "data": {
      "text/html": [
       "<div>\n",
       "<style scoped>\n",
       "    .dataframe tbody tr th:only-of-type {\n",
       "        vertical-align: middle;\n",
       "    }\n",
       "\n",
       "    .dataframe tbody tr th {\n",
       "        vertical-align: top;\n",
       "    }\n",
       "\n",
       "    .dataframe thead th {\n",
       "        text-align: right;\n",
       "    }\n",
       "</style>\n",
       "<table border=\"1\" class=\"dataframe\">\n",
       "  <thead>\n",
       "    <tr style=\"text-align: right;\">\n",
       "      <th></th>\n",
       "      <th>class</th>\n",
       "      <th>buying_low</th>\n",
       "      <th>buying_med</th>\n",
       "      <th>buying_vhigh</th>\n",
       "      <th>maint_low</th>\n",
       "      <th>maint_med</th>\n",
       "      <th>maint_vhigh</th>\n",
       "      <th>doors_3</th>\n",
       "      <th>doors_4</th>\n",
       "      <th>doors_5more</th>\n",
       "      <th>persons_4</th>\n",
       "      <th>persons_more</th>\n",
       "      <th>lug_boot_med</th>\n",
       "      <th>lug_boot_small</th>\n",
       "      <th>safety_low</th>\n",
       "      <th>safety_med</th>\n",
       "    </tr>\n",
       "  </thead>\n",
       "  <tbody>\n",
       "    <tr>\n",
       "      <th>1723</th>\n",
       "      <td>3</td>\n",
       "      <td>1</td>\n",
       "      <td>0</td>\n",
       "      <td>0</td>\n",
       "      <td>1</td>\n",
       "      <td>0</td>\n",
       "      <td>0</td>\n",
       "      <td>0</td>\n",
       "      <td>0</td>\n",
       "      <td>1</td>\n",
       "      <td>0</td>\n",
       "      <td>1</td>\n",
       "      <td>1</td>\n",
       "      <td>0</td>\n",
       "      <td>0</td>\n",
       "      <td>1</td>\n",
       "    </tr>\n",
       "    <tr>\n",
       "      <th>1724</th>\n",
       "      <td>2</td>\n",
       "      <td>1</td>\n",
       "      <td>0</td>\n",
       "      <td>0</td>\n",
       "      <td>1</td>\n",
       "      <td>0</td>\n",
       "      <td>0</td>\n",
       "      <td>0</td>\n",
       "      <td>0</td>\n",
       "      <td>1</td>\n",
       "      <td>0</td>\n",
       "      <td>1</td>\n",
       "      <td>1</td>\n",
       "      <td>0</td>\n",
       "      <td>0</td>\n",
       "      <td>0</td>\n",
       "    </tr>\n",
       "    <tr>\n",
       "      <th>1725</th>\n",
       "      <td>0</td>\n",
       "      <td>1</td>\n",
       "      <td>0</td>\n",
       "      <td>0</td>\n",
       "      <td>1</td>\n",
       "      <td>0</td>\n",
       "      <td>0</td>\n",
       "      <td>0</td>\n",
       "      <td>0</td>\n",
       "      <td>1</td>\n",
       "      <td>0</td>\n",
       "      <td>1</td>\n",
       "      <td>0</td>\n",
       "      <td>0</td>\n",
       "      <td>1</td>\n",
       "      <td>0</td>\n",
       "    </tr>\n",
       "    <tr>\n",
       "      <th>1726</th>\n",
       "      <td>3</td>\n",
       "      <td>1</td>\n",
       "      <td>0</td>\n",
       "      <td>0</td>\n",
       "      <td>1</td>\n",
       "      <td>0</td>\n",
       "      <td>0</td>\n",
       "      <td>0</td>\n",
       "      <td>0</td>\n",
       "      <td>1</td>\n",
       "      <td>0</td>\n",
       "      <td>1</td>\n",
       "      <td>0</td>\n",
       "      <td>0</td>\n",
       "      <td>0</td>\n",
       "      <td>1</td>\n",
       "    </tr>\n",
       "    <tr>\n",
       "      <th>1727</th>\n",
       "      <td>2</td>\n",
       "      <td>1</td>\n",
       "      <td>0</td>\n",
       "      <td>0</td>\n",
       "      <td>1</td>\n",
       "      <td>0</td>\n",
       "      <td>0</td>\n",
       "      <td>0</td>\n",
       "      <td>0</td>\n",
       "      <td>1</td>\n",
       "      <td>0</td>\n",
       "      <td>1</td>\n",
       "      <td>0</td>\n",
       "      <td>0</td>\n",
       "      <td>0</td>\n",
       "      <td>0</td>\n",
       "    </tr>\n",
       "  </tbody>\n",
       "</table>\n",
       "</div>"
      ],
      "text/plain": [
       "      class  buying_low  buying_med  buying_vhigh  maint_low  maint_med  \\\n",
       "1723      3           1           0             0          1          0   \n",
       "1724      2           1           0             0          1          0   \n",
       "1725      0           1           0             0          1          0   \n",
       "1726      3           1           0             0          1          0   \n",
       "1727      2           1           0             0          1          0   \n",
       "\n",
       "      maint_vhigh  doors_3  doors_4  doors_5more  persons_4  persons_more  \\\n",
       "1723            0        0        0            1          0             1   \n",
       "1724            0        0        0            1          0             1   \n",
       "1725            0        0        0            1          0             1   \n",
       "1726            0        0        0            1          0             1   \n",
       "1727            0        0        0            1          0             1   \n",
       "\n",
       "      lug_boot_med  lug_boot_small  safety_low  safety_med  \n",
       "1723             1               0           0           1  \n",
       "1724             1               0           0           0  \n",
       "1725             0               0           1           0  \n",
       "1726             0               0           0           1  \n",
       "1727             0               0           0           0  "
      ]
     },
     "execution_count": 11,
     "metadata": {},
     "output_type": "execute_result"
    }
   ],
   "source": [
    "# Encode the class column. The class column contains the labels.\n",
    "# class_uniques will be used later to map the predicted classes back into the original labels for easier interpretation. \n",
    "df_encoded['class'], class_uniques = pd.factorize(df_encoded['class'])\n",
    "df_encoded.tail()"
   ]
  },
  {
   "cell_type": "markdown",
   "metadata": {},
   "source": [
    "Following the encoding process, the class column is first in the DataFrame instead of being the last. For readability it makes sense to move it back to its logical position as the last column. "
   ]
  },
  {
   "cell_type": "code",
   "execution_count": 12,
   "metadata": {},
   "outputs": [
    {
     "data": {
      "text/html": [
       "<div>\n",
       "<style scoped>\n",
       "    .dataframe tbody tr th:only-of-type {\n",
       "        vertical-align: middle;\n",
       "    }\n",
       "\n",
       "    .dataframe tbody tr th {\n",
       "        vertical-align: top;\n",
       "    }\n",
       "\n",
       "    .dataframe thead th {\n",
       "        text-align: right;\n",
       "    }\n",
       "</style>\n",
       "<table border=\"1\" class=\"dataframe\">\n",
       "  <thead>\n",
       "    <tr style=\"text-align: right;\">\n",
       "      <th></th>\n",
       "      <th>buying_low</th>\n",
       "      <th>buying_med</th>\n",
       "      <th>buying_vhigh</th>\n",
       "      <th>maint_low</th>\n",
       "      <th>maint_med</th>\n",
       "      <th>maint_vhigh</th>\n",
       "      <th>doors_3</th>\n",
       "      <th>doors_4</th>\n",
       "      <th>doors_5more</th>\n",
       "      <th>persons_4</th>\n",
       "      <th>persons_more</th>\n",
       "      <th>lug_boot_med</th>\n",
       "      <th>lug_boot_small</th>\n",
       "      <th>safety_low</th>\n",
       "      <th>safety_med</th>\n",
       "      <th>class</th>\n",
       "    </tr>\n",
       "  </thead>\n",
       "  <tbody>\n",
       "    <tr>\n",
       "      <th>1723</th>\n",
       "      <td>1</td>\n",
       "      <td>0</td>\n",
       "      <td>0</td>\n",
       "      <td>1</td>\n",
       "      <td>0</td>\n",
       "      <td>0</td>\n",
       "      <td>0</td>\n",
       "      <td>0</td>\n",
       "      <td>1</td>\n",
       "      <td>0</td>\n",
       "      <td>1</td>\n",
       "      <td>1</td>\n",
       "      <td>0</td>\n",
       "      <td>0</td>\n",
       "      <td>1</td>\n",
       "      <td>3</td>\n",
       "    </tr>\n",
       "    <tr>\n",
       "      <th>1724</th>\n",
       "      <td>1</td>\n",
       "      <td>0</td>\n",
       "      <td>0</td>\n",
       "      <td>1</td>\n",
       "      <td>0</td>\n",
       "      <td>0</td>\n",
       "      <td>0</td>\n",
       "      <td>0</td>\n",
       "      <td>1</td>\n",
       "      <td>0</td>\n",
       "      <td>1</td>\n",
       "      <td>1</td>\n",
       "      <td>0</td>\n",
       "      <td>0</td>\n",
       "      <td>0</td>\n",
       "      <td>2</td>\n",
       "    </tr>\n",
       "    <tr>\n",
       "      <th>1725</th>\n",
       "      <td>1</td>\n",
       "      <td>0</td>\n",
       "      <td>0</td>\n",
       "      <td>1</td>\n",
       "      <td>0</td>\n",
       "      <td>0</td>\n",
       "      <td>0</td>\n",
       "      <td>0</td>\n",
       "      <td>1</td>\n",
       "      <td>0</td>\n",
       "      <td>1</td>\n",
       "      <td>0</td>\n",
       "      <td>0</td>\n",
       "      <td>1</td>\n",
       "      <td>0</td>\n",
       "      <td>0</td>\n",
       "    </tr>\n",
       "    <tr>\n",
       "      <th>1726</th>\n",
       "      <td>1</td>\n",
       "      <td>0</td>\n",
       "      <td>0</td>\n",
       "      <td>1</td>\n",
       "      <td>0</td>\n",
       "      <td>0</td>\n",
       "      <td>0</td>\n",
       "      <td>0</td>\n",
       "      <td>1</td>\n",
       "      <td>0</td>\n",
       "      <td>1</td>\n",
       "      <td>0</td>\n",
       "      <td>0</td>\n",
       "      <td>0</td>\n",
       "      <td>1</td>\n",
       "      <td>3</td>\n",
       "    </tr>\n",
       "    <tr>\n",
       "      <th>1727</th>\n",
       "      <td>1</td>\n",
       "      <td>0</td>\n",
       "      <td>0</td>\n",
       "      <td>1</td>\n",
       "      <td>0</td>\n",
       "      <td>0</td>\n",
       "      <td>0</td>\n",
       "      <td>0</td>\n",
       "      <td>1</td>\n",
       "      <td>0</td>\n",
       "      <td>1</td>\n",
       "      <td>0</td>\n",
       "      <td>0</td>\n",
       "      <td>0</td>\n",
       "      <td>0</td>\n",
       "      <td>2</td>\n",
       "    </tr>\n",
       "  </tbody>\n",
       "</table>\n",
       "</div>"
      ],
      "text/plain": [
       "      buying_low  buying_med  buying_vhigh  maint_low  maint_med  maint_vhigh  \\\n",
       "1723           1           0             0          1          0            0   \n",
       "1724           1           0             0          1          0            0   \n",
       "1725           1           0             0          1          0            0   \n",
       "1726           1           0             0          1          0            0   \n",
       "1727           1           0             0          1          0            0   \n",
       "\n",
       "      doors_3  doors_4  doors_5more  persons_4  persons_more  lug_boot_med  \\\n",
       "1723        0        0            1          0             1             1   \n",
       "1724        0        0            1          0             1             1   \n",
       "1725        0        0            1          0             1             0   \n",
       "1726        0        0            1          0             1             0   \n",
       "1727        0        0            1          0             1             0   \n",
       "\n",
       "      lug_boot_small  safety_low  safety_med  class  \n",
       "1723               0           0           1      3  \n",
       "1724               0           0           0      2  \n",
       "1725               0           1           0      0  \n",
       "1726               0           0           1      3  \n",
       "1727               0           0           0      2  "
      ]
     },
     "execution_count": 12,
     "metadata": {},
     "output_type": "execute_result"
    }
   ],
   "source": [
    "# Save the class column as a Pandas Series.\n",
    "class_col = df_encoded['class']\n",
    "# Remove class column from DataFrame.\n",
    "df_encoded.drop(columns=['class'], inplace=True)\n",
    "# Get the position of where the last column will be inserted.\n",
    "last_col_pos = df_encoded.columns.get_loc('safety_med') + 1\n",
    "# Insert the class column back into the DataFrame.\n",
    "df_encoded.insert(last_col_pos, 'class', class_col)\n",
    "df_encoded.tail()"
   ]
  },
  {
   "cell_type": "markdown",
   "metadata": {},
   "source": [
    "### Creating the model"
   ]
  },
  {
   "cell_type": "code",
   "execution_count": 13,
   "metadata": {},
   "outputs": [],
   "source": [
    "# Features.\n",
    "X = df_encoded.loc[:, 'buying_low':'safety_med']\n",
    "# Labels.\n",
    "y = df_encoded.loc[:, 'class']"
   ]
  },
  {
   "cell_type": "markdown",
   "metadata": {},
   "source": [
    "The available data needs to be split into a training set to build the model, and a test set used to establish its accuracy."
   ]
  },
  {
   "cell_type": "code",
   "execution_count": 14,
   "metadata": {},
   "outputs": [],
   "source": [
    "from sklearn.model_selection import train_test_split\n",
    "\n",
    "# Split the data into a training and test set with a 75%:25% split.\n",
    "# The setting of the random state parameter allows for reproducability (i.e the split will always yield the same results).\n",
    "X_train, X_test, y_train, y_test = train_test_split(X, y, test_size=0.25, random_state=42)"
   ]
  },
  {
   "cell_type": "code",
   "execution_count": 15,
   "metadata": {},
   "outputs": [
    {
     "data": {
      "text/plain": [
       "RandomForestClassifier(random_state=42)"
      ]
     },
     "execution_count": 15,
     "metadata": {},
     "output_type": "execute_result"
    }
   ],
   "source": [
    "from sklearn.ensemble import RandomForestClassifier\n",
    "\n",
    "# Create the random forest classifier using 100 decision trees.\n",
    "clf = RandomForestClassifier(n_estimators=100, random_state=42)\n",
    "# Train the classifier. This is where the forest of decision trees are created.\n",
    "clf.fit(X_train, y_train)"
   ]
  },
  {
   "cell_type": "markdown",
   "metadata": {},
   "source": [
    "### Testing and evaluating the model"
   ]
  },
  {
   "cell_type": "markdown",
   "metadata": {},
   "source": [
    "With the model trained it can now be used to make predictions on the test set data."
   ]
  },
  {
   "cell_type": "code",
   "execution_count": 16,
   "metadata": {},
   "outputs": [
    {
     "data": {
      "text/plain": [
       "array([0, 3, 0, 1, 0], dtype=int64)"
      ]
     },
     "execution_count": 16,
     "metadata": {},
     "output_type": "execute_result"
    }
   ],
   "source": [
    "# Predict the test set results.\n",
    "y_pred = clf.predict(X_test)\n",
    "# Show first five predictions.\n",
    "y_pred[0:5]"
   ]
  },
  {
   "cell_type": "markdown",
   "metadata": {},
   "source": [
    "The predictions are still encoded, so to make them readable they must be converted back into their original labels. This is done by mapping the class names back onto the predictions using the class_uniques variable created by the factorize() method earlier."
   ]
  },
  {
   "cell_type": "code",
   "execution_count": 17,
   "metadata": {},
   "outputs": [
    {
     "data": {
      "text/plain": [
       "Index(['unacc', 'acc', 'vgood', 'good'], dtype='object')"
      ]
     },
     "execution_count": 17,
     "metadata": {},
     "output_type": "execute_result"
    }
   ],
   "source": [
    "class_uniques"
   ]
  },
  {
   "cell_type": "markdown",
   "metadata": {},
   "source": [
    "So 0 = unacc, 1 = acc, 2 = vgood and 3 = good. Note that this is the ordering chosen by default during the encoding of the class column and not a chosen order."
   ]
  },
  {
   "cell_type": "code",
   "execution_count": 18,
   "metadata": {},
   "outputs": [
    {
     "data": {
      "text/plain": [
       "Index(['unacc', 'good', 'unacc', 'acc', 'unacc'], dtype='object')"
      ]
     },
     "execution_count": 18,
     "metadata": {},
     "output_type": "execute_result"
    }
   ],
   "source": [
    "# Mapping back to original class names.\n",
    "y_pred_labelled = class_uniques[y_pred]\n",
    "# Show first five predictions.\n",
    "y_pred_labelled[0:5]"
   ]
  },
  {
   "cell_type": "markdown",
   "metadata": {},
   "source": [
    "While the classifier provides a prediction for each observation in the test set, it doesn't mean that it is 100% sure."
   ]
  },
  {
   "cell_type": "code",
   "execution_count": 19,
   "metadata": {},
   "outputs": [
    {
     "data": {
      "text/plain": [
       "array([[0.94, 0.06, 0.  , 0.  ],\n",
       "       [0.39, 0.02, 0.01, 0.58],\n",
       "       [0.89, 0.11, 0.  , 0.  ],\n",
       "       [0.1 , 0.54, 0.12, 0.24],\n",
       "       [0.97, 0.  , 0.  , 0.03]])"
      ]
     },
     "execution_count": 19,
     "metadata": {},
     "output_type": "execute_result"
    }
   ],
   "source": [
    "# Predicted probabilities of the first five predictions.\n",
    "clf.predict_proba(X_test)[0:5]"
   ]
  },
  {
   "cell_type": "markdown",
   "metadata": {},
   "source": [
    "The first row above is the first observation of the test set and the classifier was 94% sure that it was an unacceptable class of vehicle (class 0). In the second observation it was only 58% sure that it was a good class of vehicle (class 3).\n",
    "\n",
    "So how accurate was this basic model?"
   ]
  },
  {
   "cell_type": "code",
   "execution_count": 20,
   "metadata": {},
   "outputs": [
    {
     "data": {
      "text/plain": [
       "0.8865740740740741"
      ]
     },
     "execution_count": 20,
     "metadata": {},
     "output_type": "execute_result"
    }
   ],
   "source": [
    "from sklearn.metrics import accuracy_score\n",
    "\n",
    "# Get the accuracy classification score.\n",
    "accuracy_score(y_test, y_pred)"
   ]
  },
  {
   "cell_type": "markdown",
   "metadata": {},
   "source": [
    "The model was correct with 88.7% of its predictions. \n",
    "\n",
    "Though the accuracy is a useful indicator of performance, a confusion matrix can be used to delve into more detail. A confusion matrix is so named because it shows where the classifier is confused/incorrect with its predictions. Here it shows totals of the classifier's correct and incorrect predicted labels vs the actual labels for the test set. "
   ]
  },
  {
   "cell_type": "code",
   "execution_count": 21,
   "metadata": {},
   "outputs": [
    {
     "data": {
      "text/plain": [
       "array([[291,   3,   0,   0],\n",
       "       [ 17,  79,   6,   1],\n",
       "       [  0,   9,   6,   0],\n",
       "       [  0,  10,   3,   7]], dtype=int64)"
      ]
     },
     "execution_count": 21,
     "metadata": {},
     "output_type": "execute_result"
    }
   ],
   "source": [
    "from sklearn.metrics import confusion_matrix\n",
    "\n",
    "# Restore the class labels from encoded values back to their original strings.\n",
    "y_pred = class_uniques[y_pred]\n",
    "y_test = class_uniques[y_test]\n",
    "# Create the confusion matrix. Setting the labels parameter sets the order of the columns and rows in the matrix.\n",
    "# First row/column shows unacceptable, second row/column shows acceptable etc.\n",
    "confusion_matrix(y_test, y_pred, labels=['unacc', 'acc', 'good', 'vgood'])"
   ]
  },
  {
   "cell_type": "code",
   "execution_count": 22,
   "metadata": {},
   "outputs": [
    {
     "name": "stdout",
     "output_type": "stream",
     "text": [
      "              precision    recall  f1-score   support\n",
      "\n",
      "       unacc       0.94      0.99      0.97       294\n",
      "         acc       0.78      0.77      0.77       103\n",
      "        good       0.40      0.40      0.40        15\n",
      "       vgood       0.88      0.35      0.50        20\n",
      "\n",
      "    accuracy                           0.89       432\n",
      "   macro avg       0.75      0.63      0.66       432\n",
      "weighted avg       0.88      0.89      0.88       432\n",
      "\n"
     ]
    }
   ],
   "source": [
    "from sklearn.metrics import classification_report\n",
    "\n",
    "# Display the precision, recall and F1 score for each class.\n",
    "print(classification_report(y_test, y_pred, labels=['unacc', 'acc', 'good', 'vgood']))"
   ]
  },
  {
   "cell_type": "markdown",
   "metadata": {},
   "source": [
    "### Ordinal data"
   ]
  },
  {
   "cell_type": "code",
   "execution_count": 23,
   "metadata": {},
   "outputs": [
    {
     "data": {
      "text/html": [
       "<div>\n",
       "<style scoped>\n",
       "    .dataframe tbody tr th:only-of-type {\n",
       "        vertical-align: middle;\n",
       "    }\n",
       "\n",
       "    .dataframe tbody tr th {\n",
       "        vertical-align: top;\n",
       "    }\n",
       "\n",
       "    .dataframe thead th {\n",
       "        text-align: right;\n",
       "    }\n",
       "</style>\n",
       "<table border=\"1\" class=\"dataframe\">\n",
       "  <thead>\n",
       "    <tr style=\"text-align: right;\">\n",
       "      <th></th>\n",
       "      <th>buying</th>\n",
       "      <th>maint</th>\n",
       "      <th>doors</th>\n",
       "      <th>persons</th>\n",
       "      <th>lug_boot</th>\n",
       "      <th>safety</th>\n",
       "      <th>class</th>\n",
       "    </tr>\n",
       "  </thead>\n",
       "  <tbody>\n",
       "    <tr>\n",
       "      <th>0</th>\n",
       "      <td>vhigh</td>\n",
       "      <td>vhigh</td>\n",
       "      <td>2</td>\n",
       "      <td>2</td>\n",
       "      <td>small</td>\n",
       "      <td>low</td>\n",
       "      <td>unacc</td>\n",
       "    </tr>\n",
       "    <tr>\n",
       "      <th>1</th>\n",
       "      <td>vhigh</td>\n",
       "      <td>vhigh</td>\n",
       "      <td>2</td>\n",
       "      <td>2</td>\n",
       "      <td>small</td>\n",
       "      <td>med</td>\n",
       "      <td>unacc</td>\n",
       "    </tr>\n",
       "    <tr>\n",
       "      <th>2</th>\n",
       "      <td>vhigh</td>\n",
       "      <td>vhigh</td>\n",
       "      <td>2</td>\n",
       "      <td>2</td>\n",
       "      <td>small</td>\n",
       "      <td>high</td>\n",
       "      <td>unacc</td>\n",
       "    </tr>\n",
       "    <tr>\n",
       "      <th>3</th>\n",
       "      <td>vhigh</td>\n",
       "      <td>vhigh</td>\n",
       "      <td>2</td>\n",
       "      <td>2</td>\n",
       "      <td>med</td>\n",
       "      <td>low</td>\n",
       "      <td>unacc</td>\n",
       "    </tr>\n",
       "    <tr>\n",
       "      <th>4</th>\n",
       "      <td>vhigh</td>\n",
       "      <td>vhigh</td>\n",
       "      <td>2</td>\n",
       "      <td>2</td>\n",
       "      <td>med</td>\n",
       "      <td>med</td>\n",
       "      <td>unacc</td>\n",
       "    </tr>\n",
       "  </tbody>\n",
       "</table>\n",
       "</div>"
      ],
      "text/plain": [
       "  buying  maint doors persons lug_boot safety  class\n",
       "0  vhigh  vhigh     2       2    small    low  unacc\n",
       "1  vhigh  vhigh     2       2    small    med  unacc\n",
       "2  vhigh  vhigh     2       2    small   high  unacc\n",
       "3  vhigh  vhigh     2       2      med    low  unacc\n",
       "4  vhigh  vhigh     2       2      med    med  unacc"
      ]
     },
     "execution_count": 23,
     "metadata": {},
     "output_type": "execute_result"
    }
   ],
   "source": [
    "df_ordinal = df.copy()\n",
    "df_ordinal.head()"
   ]
  },
  {
   "cell_type": "markdown",
   "metadata": {},
   "source": [
    "Now to encode the features and label columns, implementing a logical ordering system for each."
   ]
  },
  {
   "cell_type": "code",
   "execution_count": 24,
   "metadata": {},
   "outputs": [
    {
     "data": {
      "text/html": [
       "<div>\n",
       "<style scoped>\n",
       "    .dataframe tbody tr th:only-of-type {\n",
       "        vertical-align: middle;\n",
       "    }\n",
       "\n",
       "    .dataframe tbody tr th {\n",
       "        vertical-align: top;\n",
       "    }\n",
       "\n",
       "    .dataframe thead th {\n",
       "        text-align: right;\n",
       "    }\n",
       "</style>\n",
       "<table border=\"1\" class=\"dataframe\">\n",
       "  <thead>\n",
       "    <tr style=\"text-align: right;\">\n",
       "      <th></th>\n",
       "      <th>buying_ordinal</th>\n",
       "      <th>maint_ordinal</th>\n",
       "      <th>doors_ordinal</th>\n",
       "      <th>persons_ordinal</th>\n",
       "      <th>lug_boot_ordinal</th>\n",
       "      <th>safety_ordinal</th>\n",
       "      <th>class_ordinal</th>\n",
       "    </tr>\n",
       "  </thead>\n",
       "  <tbody>\n",
       "    <tr>\n",
       "      <th>1723</th>\n",
       "      <td>0</td>\n",
       "      <td>0</td>\n",
       "      <td>3</td>\n",
       "      <td>2</td>\n",
       "      <td>1</td>\n",
       "      <td>1</td>\n",
       "      <td>2</td>\n",
       "    </tr>\n",
       "    <tr>\n",
       "      <th>1724</th>\n",
       "      <td>0</td>\n",
       "      <td>0</td>\n",
       "      <td>3</td>\n",
       "      <td>2</td>\n",
       "      <td>1</td>\n",
       "      <td>2</td>\n",
       "      <td>3</td>\n",
       "    </tr>\n",
       "    <tr>\n",
       "      <th>1725</th>\n",
       "      <td>0</td>\n",
       "      <td>0</td>\n",
       "      <td>3</td>\n",
       "      <td>2</td>\n",
       "      <td>2</td>\n",
       "      <td>0</td>\n",
       "      <td>0</td>\n",
       "    </tr>\n",
       "    <tr>\n",
       "      <th>1726</th>\n",
       "      <td>0</td>\n",
       "      <td>0</td>\n",
       "      <td>3</td>\n",
       "      <td>2</td>\n",
       "      <td>2</td>\n",
       "      <td>1</td>\n",
       "      <td>2</td>\n",
       "    </tr>\n",
       "    <tr>\n",
       "      <th>1727</th>\n",
       "      <td>0</td>\n",
       "      <td>0</td>\n",
       "      <td>3</td>\n",
       "      <td>2</td>\n",
       "      <td>2</td>\n",
       "      <td>2</td>\n",
       "      <td>3</td>\n",
       "    </tr>\n",
       "  </tbody>\n",
       "</table>\n",
       "</div>"
      ],
      "text/plain": [
       "      buying_ordinal  maint_ordinal  doors_ordinal  persons_ordinal  \\\n",
       "1723               0              0              3                2   \n",
       "1724               0              0              3                2   \n",
       "1725               0              0              3                2   \n",
       "1726               0              0              3                2   \n",
       "1727               0              0              3                2   \n",
       "\n",
       "      lug_boot_ordinal  safety_ordinal  class_ordinal  \n",
       "1723                 1               1              2  \n",
       "1724                 1               2              3  \n",
       "1725                 2               0              0  \n",
       "1726                 2               1              2  \n",
       "1727                 2               2              3  "
      ]
     },
     "execution_count": 24,
     "metadata": {},
     "output_type": "execute_result"
    }
   ],
   "source": [
    "# Create the new encoded columns in the DataFrame by mapping the feature and label columns with the desired order.\n",
    "df_ordinal['buying_ordinal'] = df_ordinal['buying'].map({'low':0, 'med':1, 'high':2, 'vhigh':3})\n",
    "df_ordinal['maint_ordinal'] = df_ordinal['maint'].map({'low':0, 'med':1, 'high':2, 'vhigh':3})\n",
    "df_ordinal['doors_ordinal'] = df_ordinal['doors'].map({'2':0, '3':1, '4':2, '5more':3})\n",
    "df_ordinal['persons_ordinal'] = df_ordinal['persons'].map({'2':0, '4':1, 'more':2})\n",
    "df_ordinal['lug_boot_ordinal'] = df_ordinal['lug_boot'].map({'small':0, 'med':1, 'big':2})\n",
    "df_ordinal['safety_ordinal'] = df_ordinal['safety'].map({'low':0, 'med':1, 'high':2})\n",
    "df_ordinal['class_ordinal'] = df_ordinal['class'].map({'unacc':0, 'acc':1, 'good':2, 'vgood':3})\n",
    "# Remove the original columns.\n",
    "df_ordinal.drop(columns=['buying', 'maint', 'doors', 'persons', 'lug_boot', 'safety', 'class'], inplace=True)\n",
    "# View last five rows of DataFrame.\n",
    "df_ordinal.tail()"
   ]
  },
  {
   "cell_type": "markdown",
   "metadata": {},
   "source": [
    "### Creating and evaluting the model"
   ]
  },
  {
   "cell_type": "markdown",
   "metadata": {},
   "source": [
    "With the data processed the model can be created using the same process as before."
   ]
  },
  {
   "cell_type": "code",
   "execution_count": 25,
   "metadata": {},
   "outputs": [],
   "source": [
    "# Features.\n",
    "X_ord = df_ordinal.iloc[:, :-1]\n",
    "# Labels.\n",
    "y_ord = df_ordinal.iloc[:, -1]\n",
    "# Split the data for training and testing the classifier model.\n",
    "X_ordtrain, X_ordtest, y_ordtrain, y_ordtest = train_test_split(X_ord, y_ord, test_size=0.25, random_state=42)\n",
    "# Create the classifier.\n",
    "clf_ord = RandomForestClassifier(n_estimators=100, random_state=42)\n",
    "clf_ord.fit(X_ordtrain, y_ordtrain)\n",
    "y_ordpred = clf_ord.predict(X_ordtest)"
   ]
  },
  {
   "cell_type": "markdown",
   "metadata": {},
   "source": [
    "WIth the new model created how does its accuracy compare to the previous one?"
   ]
  },
  {
   "cell_type": "code",
   "execution_count": 26,
   "metadata": {},
   "outputs": [
    {
     "data": {
      "text/plain": [
       "0.9629629629629629"
      ]
     },
     "execution_count": 26,
     "metadata": {},
     "output_type": "execute_result"
    }
   ],
   "source": [
    "accuracy_score(y_ordtest, y_ordpred)"
   ]
  },
  {
   "cell_type": "markdown",
   "metadata": {},
   "source": [
    "The accuracy of the model which utilised data prepared by recognising ordinality rose from 88.7% to 96.3%."
   ]
  },
  {
   "cell_type": "code",
   "execution_count": 27,
   "metadata": {},
   "outputs": [
    {
     "data": {
      "text/plain": [
       "array([[294,   0,   0,   0],\n",
       "       [  3,  91,   8,   1],\n",
       "       [  0,   0,  14,   1],\n",
       "       [  0,   1,   2,  17]], dtype=int64)"
      ]
     },
     "execution_count": 27,
     "metadata": {},
     "output_type": "execute_result"
    }
   ],
   "source": [
    "# The labels were specified in the mapping earlier (unacc=0, acc=1, good=2, vgood=3).\n",
    "confusion_matrix(y_ordtest, y_ordpred, labels=[0, 1, 2, 3])"
   ]
  },
  {
   "cell_type": "code",
   "execution_count": 28,
   "metadata": {},
   "outputs": [
    {
     "name": "stdout",
     "output_type": "stream",
     "text": [
      "              precision    recall  f1-score   support\n",
      "\n",
      "           0       0.99      1.00      0.99       294\n",
      "           1       0.99      0.88      0.93       103\n",
      "           2       0.58      0.93      0.72        15\n",
      "           3       0.89      0.85      0.87        20\n",
      "\n",
      "    accuracy                           0.96       432\n",
      "   macro avg       0.86      0.92      0.88       432\n",
      "weighted avg       0.97      0.96      0.96       432\n",
      "\n"
     ]
    }
   ],
   "source": [
    "# Display the precision, recall and F1 score for each class.\n",
    "print(classification_report(y_ordtest, y_ordpred, labels=[0, 1, 2, 3]))"
   ]
  },
  {
   "cell_type": "markdown",
   "metadata": {},
   "source": [
    "This model is an improvement, as indicated by the accuracy score and the diagonal of the confusion matrix. The F1 score for all classes improved, but the good and vgood classes still trail."
   ]
  },
  {
   "cell_type": "code",
   "execution_count": 29,
   "metadata": {
    "scrolled": true
   },
   "outputs": [
    {
     "name": "stdout",
     "output_type": "stream",
     "text": [
      "buying_ordinal: 0.15679496973015414\n",
      "maint_ordinal: 0.15363336272819894\n",
      "doors_ordinal: 0.06504475841161442\n",
      "persons_ordinal: 0.23122593193956503\n",
      "lug_boot_ordinal: 0.08972317931508356\n",
      "safety_ordinal: 0.30357779787538386\n"
     ]
    }
   ],
   "source": [
    "# Get the column names of the ordinal DataFrame from part two (apart from last which is the label column).\n",
    "feat_names = list(df_ordinal.columns.values)[:-1]\n",
    "# Get the feature importances from the RandomForestClassifier attribute.\n",
    "feat_importances = clf_ord.feature_importances_\n",
    "# Display the importances for each feature.\n",
    "for name, imp in zip(feat_names, feat_importances):\n",
    "    print(\"{}: {}\".format(name, imp))"
   ]
  },
  {
   "cell_type": "code",
   "execution_count": 28,
   "metadata": {},
   "outputs": [
    {
     "data": {
      "image/png": "[encoded data removed]",
      "text/plain": [
       "<Figure size 432x288 with 1 Axes>"
      ]
     },
     "metadata": {
      "needs_background": "light"
     },
     "output_type": "display_data"
    }
   ],
   "source": [
    "# Create bar plot of feature importance.\n",
    "feat_imp_plot = sns.barplot(y=feat_importances, x=feat_names)\n",
    "sns.set_style('darkgrid')\n",
    "# Annotate plot.\n",
    "plt.title(\"Feature importances\")\n",
    "plt.xlabel('Name')\n",
    "plt.ylabel('Importance')\n",
    "# Orientate the x-axis labels.\n",
    "feat_imp_plot.set_xticklabels(feat_imp_plot.get_xticklabels(), rotation=90)\n",
    "plt.show()"
   ]
  },
  {
   "cell_type": "markdown",
   "metadata": {},
   "source": [
    "It appears that the car's safety (safety_ordinal), responsible for almost a third of the prediction, is the most important feature in this car evaluation dataset. The number of doors (doors_ordinal) and size of the boot (lug_boot_ordinal) are the features that have the least impact on the predictions. "
   ]
  },
  {
   "cell_type": "markdown",
   "metadata": {},
   "source": [
    "### Creating and evaluting the model"
   ]
  },
  {
   "cell_type": "code",
   "execution_count": 30,
   "metadata": {
    "scrolled": false
   },
   "outputs": [
    {
     "name": "stdout",
     "output_type": "stream",
     "text": [
      "\n",
      "Threshold importance value: 0.06504475841161442\n",
      "6 selected features:\n",
      "Df index: 0, Feature name: buying_ordinal, Importance val: 0.15679496973015414\n",
      "Df index: 1, Feature name: maint_ordinal, Importance val: 0.15363336272819894\n",
      "Df index: 2, Feature name: doors_ordinal, Importance val: 0.06504475841161442\n",
      "Df index: 3, Feature name: persons_ordinal, Importance val: 0.23122593193956503\n",
      "Df index: 4, Feature name: lug_boot_ordinal, Importance val: 0.08972317931508356\n",
      "Df index: 5, Feature name: safety_ordinal, Importance val: 0.30357779787538386\n",
      "Accuracy: 0.9629629629629629\n",
      "[[294   0   0   0]\n",
      " [  3  91   8   1]\n",
      " [  0   0  14   1]\n",
      " [  0   1   2  17]]\n",
      "\n",
      "Threshold importance value: 0.08972317931508356\n",
      "5 selected features:\n",
      "Df index: 0, Feature name: buying_ordinal, Importance val: 0.15679496973015414\n",
      "Df index: 1, Feature name: maint_ordinal, Importance val: 0.15363336272819894\n",
      "Df index: 3, Feature name: persons_ordinal, Importance val: 0.23122593193956503\n",
      "Df index: 4, Feature name: lug_boot_ordinal, Importance val: 0.08972317931508356\n",
      "Df index: 5, Feature name: safety_ordinal, Importance val: 0.30357779787538386\n",
      "Accuracy: 0.9375\n",
      "[[291   3   0   0]\n",
      " [  5  84  11   3]\n",
      " [  0   0  13   2]\n",
      " [  0   2   1  17]]\n",
      "\n",
      "Threshold importance value: 0.15363336272819894\n",
      "4 selected features:\n",
      "Df index: 0, Feature name: buying_ordinal, Importance val: 0.15679496973015414\n",
      "Df index: 1, Feature name: maint_ordinal, Importance val: 0.15363336272819894\n",
      "Df index: 3, Feature name: persons_ordinal, Importance val: 0.23122593193956503\n",
      "Df index: 5, Feature name: safety_ordinal, Importance val: 0.30357779787538386\n",
      "Accuracy: 0.8518518518518519\n",
      "[[281  12   0   1]\n",
      " [ 17  67  12   7]\n",
      " [  0   0   8   7]\n",
      " [  0   4   4  12]]\n",
      "\n",
      "Threshold importance value: 0.15679496973015414\n",
      "3 selected features:\n",
      "Df index: 0, Feature name: buying_ordinal, Importance val: 0.15679496973015414\n",
      "Df index: 3, Feature name: persons_ordinal, Importance val: 0.23122593193956503\n",
      "Df index: 5, Feature name: safety_ordinal, Importance val: 0.30357779787538386\n",
      "Accuracy: 0.8333333333333334\n",
      "[[280  13   0   1]\n",
      " [ 28  69   0   6]\n",
      " [  0  11   0   4]\n",
      " [  0   9   0  11]]\n",
      "\n",
      "Threshold importance value: 0.23122593193956503\n",
      "2 selected features:\n",
      "Df index: 3, Feature name: persons_ordinal, Importance val: 0.23122593193956503\n",
      "Df index: 5, Feature name: safety_ordinal, Importance val: 0.30357779787538386\n",
      "Accuracy: 0.7708333333333334\n",
      "[[257  37   0   0]\n",
      " [ 27  76   0   0]\n",
      " [  3  12   0   0]\n",
      " [  0  20   0   0]]\n",
      "\n",
      "Threshold importance value: 0.30357779787538386\n",
      "1 selected features:\n",
      "Df index: 5, Feature name: safety_ordinal, Importance val: 0.30357779787538386\n",
      "Accuracy: 0.6805555555555556\n",
      "[[294   0   0   0]\n",
      " [103   0   0   0]\n",
      " [ 15   0   0   0]\n",
      " [ 20   0   0   0]]\n"
     ]
    }
   ],
   "source": [
    "from sklearn.feature_selection import SelectFromModel\n",
    "\n",
    "# Sort the threshold importances.\n",
    "feat_importances.sort()\n",
    "# List to store number of selected features in each model.\n",
    "num_selected_features = []\n",
    "# List to store the accuracy of each model.\n",
    "acc_scores = []\n",
    "# Create, train and evaluate the accuracy of a classifier for selected features included at each threshold value.\n",
    "for importance in feat_importances:\n",
    "    print(\"\\nThreshold importance value: {}\".format(importance))\n",
    "\n",
    "    # Create a meta-transformer for selecting features equal to or above a threshold importance value.\n",
    "    sfm = SelectFromModel(clf_ord, threshold=importance)\n",
    "    # Fit the meta-transformer on the training data.\n",
    "    sfm.fit(X_ordtrain, y_ordtrain)\n",
    "\n",
    "    # Get an array of indices of the selected features.\n",
    "    imp_feature_indices = sfm.get_support(indices=True)\n",
    "    \n",
    "    # Get a count of the number of selected features at this threshold value.\n",
    "    selected_features_count = len(imp_feature_indices)\n",
    "    # Append count to list of numbers of selected features.\n",
    "    num_selected_features.append(selected_features_count)\n",
    "    # Display the number of selected features.\n",
    "    print(\"{} selected features:\".format(selected_features_count))\n",
    "    \n",
    "    # Use the indices array to print the selected features' index in the DataFrame, name and importance value.\n",
    "    for imp_feature_index in imp_feature_indices:\n",
    "        imp_feature_name = df_ordinal.columns[imp_feature_index]\n",
    "        imp_feature_value = sfm.estimator_.feature_importances_[imp_feature_index]\n",
    "        print(\"Df index: {}, Feature name: {}, Importance val: {}\".format(imp_feature_index, imp_feature_name, imp_feature_value))\n",
    "\n",
    "    # Reduce the features 'X' to just the selected features.\n",
    "    X_fstrain = sfm.transform(X_ordtrain)\n",
    "    X_fstest = sfm.transform(X_ordtest)\n",
    "\n",
    "    # Create the classifier and make predictions.\n",
    "    clf_fs = RandomForestClassifier(n_estimators=100, random_state=42)\n",
    "    clf_fs.fit(X_fstrain, y_ordtrain)\n",
    "    y_fspred = clf_fs.predict(X_fstest)\n",
    "\n",
    "    # Calculate the accuracy of the classifier.\n",
    "    acc = accuracy_score(y_ordtest, y_fspred)\n",
    "    # Append accuracy score to list of accuracy scores.\n",
    "    acc_scores.append(acc)\n",
    "    # Display the accuracy.\n",
    "    print(\"Accuracy: {}\".format(acc))\n",
    "\n",
    "    # Display a confusion matrix. The labels were specified in the mapping earlier (unacc=0, acc=1, good=2, vgood=3).\n",
    "    print(confusion_matrix(y_ordtest, y_fspred, labels=[0, 1, 2, 3]))"
   ]
  },
  {
   "cell_type": "code",
   "execution_count": 32,
   "metadata": {},
   "outputs": [
    {
     "name": "stderr",
     "output_type": "stream",
     "text": [
      "C:\\Users\\Admin\\anaconda3\\lib\\site-packages\\seaborn\\_decorators.py:36: FutureWarning: Pass the following variables as keyword args: x, y. From version 0.12, the only valid positional argument will be `data`, and passing other arguments without an explicit keyword will result in an error or misinterpretation.\n",
      "  warnings.warn(\n"
     ]
    },
    {
     "data": {
      "image/png": "[encoded data removed]",
      "text/plain": [
       "<Figure size 432x288 with 1 Axes>"
      ]
     },
     "metadata": {},
     "output_type": "display_data"
    }
   ],
   "source": [
    "# Plot scatterplot with the accuracies at each threshold value.\n",
    "sns.scatterplot(feat_importances, acc_scores, marker='x')\n",
    "sns.set_style('darkgrid')\n",
    "plt.yticks(np.arange(0.5, 1, 0.05))\n",
    "plt.title(\"Feature selection accuracy scores\")\n",
    "plt.xlabel(\"Threshold importance\")\n",
    "plt.ylabel(\"Accuracy score\")\n",
    "plt.show()"
   ]
  },
  {
   "cell_type": "markdown",
   "metadata": {},
   "source": [
    "This plot shows the change in model accuracy as backward elimination progresses, with the leftmost point representing the model with all features present and the rightmost point representing it with just the most important feature remaining. As features are removed the accuracy of the model reduces, almost linearly it seems.\n",
    "\n",
    "The confusion matrices also seem to show that as the number of selected features used in training decreases, the model tends towards predicting unacceptable and acceptable car classes. With just the safety_ordinal feature in the training set, all predictions were of the unacceptable class. Again this is perhaps due to the imbalance in the dataset.\n",
    "\n",
    "Finally the percentage fall in accuracy of each of these feature selection models from the original can be calculated."
   ]
  },
  {
   "cell_type": "code",
   "execution_count": 33,
   "metadata": {},
   "outputs": [
    {
     "data": {
      "text/html": [
       "<div>\n",
       "<style scoped>\n",
       "    .dataframe tbody tr th:only-of-type {\n",
       "        vertical-align: middle;\n",
       "    }\n",
       "\n",
       "    .dataframe tbody tr th {\n",
       "        vertical-align: top;\n",
       "    }\n",
       "\n",
       "    .dataframe thead th {\n",
       "        text-align: right;\n",
       "    }\n",
       "</style>\n",
       "<table border=\"1\" class=\"dataframe\">\n",
       "  <thead>\n",
       "    <tr style=\"text-align: right;\">\n",
       "      <th></th>\n",
       "      <th>threshold_importance</th>\n",
       "      <th>no_selected_features</th>\n",
       "      <th>accuracy</th>\n",
       "    </tr>\n",
       "  </thead>\n",
       "  <tbody>\n",
       "    <tr>\n",
       "      <th>0</th>\n",
       "      <td>0.065045</td>\n",
       "      <td>6</td>\n",
       "      <td>0.962963</td>\n",
       "    </tr>\n",
       "    <tr>\n",
       "      <th>1</th>\n",
       "      <td>0.089723</td>\n",
       "      <td>5</td>\n",
       "      <td>0.937500</td>\n",
       "    </tr>\n",
       "    <tr>\n",
       "      <th>2</th>\n",
       "      <td>0.153633</td>\n",
       "      <td>4</td>\n",
       "      <td>0.851852</td>\n",
       "    </tr>\n",
       "    <tr>\n",
       "      <th>3</th>\n",
       "      <td>0.156795</td>\n",
       "      <td>3</td>\n",
       "      <td>0.833333</td>\n",
       "    </tr>\n",
       "    <tr>\n",
       "      <th>4</th>\n",
       "      <td>0.231226</td>\n",
       "      <td>2</td>\n",
       "      <td>0.770833</td>\n",
       "    </tr>\n",
       "    <tr>\n",
       "      <th>5</th>\n",
       "      <td>0.303578</td>\n",
       "      <td>1</td>\n",
       "      <td>0.680556</td>\n",
       "    </tr>\n",
       "  </tbody>\n",
       "</table>\n",
       "</div>"
      ],
      "text/plain": [
       "   threshold_importance  no_selected_features  accuracy\n",
       "0              0.065045                     6  0.962963\n",
       "1              0.089723                     5  0.937500\n",
       "2              0.153633                     4  0.851852\n",
       "3              0.156795                     3  0.833333\n",
       "4              0.231226                     2  0.770833\n",
       "5              0.303578                     1  0.680556"
      ]
     },
     "execution_count": 33,
     "metadata": {},
     "output_type": "execute_result"
    }
   ],
   "source": [
    "# Create a new DataFrame where each row represents one of the feature selection models. \n",
    "df_fs_results = pd.DataFrame({\"threshold_importance\" : feat_importances, \"no_selected_features\" : num_selected_features, \"accuracy\" : acc_scores})\n",
    "df_fs_results"
   ]
  },
  {
   "cell_type": "markdown",
   "metadata": {},
   "source": [
    "Percentage change is calculated using the formula:\n",
    "\n",
    "$$percentage\\;change = \\frac{new\\;value - original\\;value}{original\\;value} \\times 100$$"
   ]
  },
  {
   "cell_type": "code",
   "execution_count": 34,
   "metadata": {},
   "outputs": [
    {
     "data": {
      "text/html": [
       "<div>\n",
       "<style scoped>\n",
       "    .dataframe tbody tr th:only-of-type {\n",
       "        vertical-align: middle;\n",
       "    }\n",
       "\n",
       "    .dataframe tbody tr th {\n",
       "        vertical-align: top;\n",
       "    }\n",
       "\n",
       "    .dataframe thead th {\n",
       "        text-align: right;\n",
       "    }\n",
       "</style>\n",
       "<table border=\"1\" class=\"dataframe\">\n",
       "  <thead>\n",
       "    <tr style=\"text-align: right;\">\n",
       "      <th></th>\n",
       "      <th>threshold_importance</th>\n",
       "      <th>no_selected_features</th>\n",
       "      <th>accuracy</th>\n",
       "      <th>acc_pct_change</th>\n",
       "    </tr>\n",
       "  </thead>\n",
       "  <tbody>\n",
       "    <tr>\n",
       "      <th>0</th>\n",
       "      <td>0.065045</td>\n",
       "      <td>6</td>\n",
       "      <td>0.962963</td>\n",
       "      <td>0.000000</td>\n",
       "    </tr>\n",
       "    <tr>\n",
       "      <th>1</th>\n",
       "      <td>0.089723</td>\n",
       "      <td>5</td>\n",
       "      <td>0.937500</td>\n",
       "      <td>-2.644231</td>\n",
       "    </tr>\n",
       "    <tr>\n",
       "      <th>2</th>\n",
       "      <td>0.153633</td>\n",
       "      <td>4</td>\n",
       "      <td>0.851852</td>\n",
       "      <td>-11.538462</td>\n",
       "    </tr>\n",
       "    <tr>\n",
       "      <th>3</th>\n",
       "      <td>0.156795</td>\n",
       "      <td>3</td>\n",
       "      <td>0.833333</td>\n",
       "      <td>-13.461538</td>\n",
       "    </tr>\n",
       "    <tr>\n",
       "      <th>4</th>\n",
       "      <td>0.231226</td>\n",
       "      <td>2</td>\n",
       "      <td>0.770833</td>\n",
       "      <td>-19.951923</td>\n",
       "    </tr>\n",
       "    <tr>\n",
       "      <th>5</th>\n",
       "      <td>0.303578</td>\n",
       "      <td>1</td>\n",
       "      <td>0.680556</td>\n",
       "      <td>-29.326923</td>\n",
       "    </tr>\n",
       "  </tbody>\n",
       "</table>\n",
       "</div>"
      ],
      "text/plain": [
       "   threshold_importance  no_selected_features  accuracy  acc_pct_change\n",
       "0              0.065045                     6  0.962963        0.000000\n",
       "1              0.089723                     5  0.937500       -2.644231\n",
       "2              0.153633                     4  0.851852      -11.538462\n",
       "3              0.156795                     3  0.833333      -13.461538\n",
       "4              0.231226                     2  0.770833      -19.951923\n",
       "5              0.303578                     1  0.680556      -29.326923"
      ]
     },
     "execution_count": 34,
     "metadata": {},
     "output_type": "execute_result"
    }
   ],
   "source": [
    "# Create a percentage change column in the DataFrame which shows the accuracy change of each feature selection model from the original.\n",
    "df_fs_results[\"acc_pct_change\"] = df_fs_results[\"accuracy\"].apply(lambda x: ((x - df_fs_results[\"accuracy\"].iloc[0])/df_fs_results[\"accuracy\"].iloc[0]) * 100)\n",
    "df_fs_results"
   ]
  },
  {
   "cell_type": "markdown",
   "metadata": {},
   "source": [
    "## Conclusion"
   ]
  },
  {
   "cell_type": "markdown",
   "metadata": {},
   "source": [
    "It is clear that the data preprocessing stage is very important. Recognising the ordinality in the Car Evaluation Data Set yielded a large increase in the accuracy of the random forest classifer model, rising from 88.7% to 96.3%. As the precision and recall metrics showed, a well balanced dataset for the classifier to train on for each class label is desirable.\n",
    "\n",
    "Feature selection using threshold feature importance values saw a reduction in model accuracy as fewer features were used to train the model. Training the model on just the single most important feature gave an accuracy of 68%, almost 30% lower than the model trained on all its features. However this technique can be of use in models with much larger datasets where training time and memory are a factor."
   ]
  },
  {
   "cell_type": "code",
   "execution_count": null,
   "metadata": {},
   "outputs": [],
   "source": [
    "1. What is Random Forest and how does it work?\n",
    "Random Forest is an ensemble learning method that constructs a multitude of decision trees during training \n",
    "and outputs the class that is the mode of the classes (classification) or mean prediction (regression) of the individual trees.\n",
    "\n",
    "2. Why is it called \"Random\" Forest?\n",
    "The \"Random\" in Random Forest comes from the random selection of subsets of features and samples (using bagging) \n",
    "during the construction of individual decision trees. This randomness helps to decorrelate the trees \n",
    "and improves the model'srobustness.\n",
    "\n",
    "3. How does Random Forest handle overfitting?\n",
    "Random Forest mitigates overfitting by training multiple decision trees on different subsets of the data and features. \n",
    "The ensemble nature of Random Forest helps to reduce the variance associated with individual trees, \n",
    "making the model less prone to overfitting.\n",
    "\n",
    "4. What is bagging, and how is it used in Random Forest?\n",
    "Bagging (Bootstrap Aggregating) is a technique where multiple subsets \n",
    "of the training data are sampled with replacement (bootstrap samples),and a model is trained on each subset. \n",
    "In Random Forest, bagging is used to train individual decision trees on different subsets of the data.\n",
    "\n",
    "5. How does Random Forest handle missing values in data?\n",
    "Random Forest can handle missing values by using the majority class for imputation during training. It can also use out-of-bag samples for unbiased imputation. Additionally, the Random Forest algorithm is robust to missing values, and imputation is not always necessary.\n",
    "\n",
    "6. What are the hyperparameters of Random Forest?\n",
    "Some important hyperparameters include n_estimators (number of trees), max_depth (maximum depth of each tree), max_features (number of features considered for each split), and others. These parameters can be tuned to optimize model performance.\n",
    "\n",
    "7. How does Random Forest determine feature importance?\n",
    "Feature importance in Random Forest is determined by evaluating how much each feature contributes to the overall performance of the model. Features that lead to more significant reductions in impurity (e.g., Gini impurity) are considered more important.\n",
    "\n",
    "8. Can Random Forest be used for regression tasks?\n",
    "Yes, Random Forest can be used for both classification and regression tasks. For regression, the output is the average of the individual tree predictions.\n",
    "\n",
    "9. What is the Out-of-Bag (OOB) error in Random Forest?\n",
    "The Out-of-Bag error is an estimate of the model's performance on unseen data. It is computed by evaluating each tree on the samples that were not included in its bootstrap sample during training.\n",
    "\n",
    "10. How can you prevent overfitting in a Random Forest model?\n",
    "typescript\n",
    "You can prevent overfitting in a Random Forest model by tuning hyperparameters, such as limiting the depth of the trees (`max_depth`), increasing the number of trees (`n_estimators`), and adjusting the number of features considered for each split (`max_features`).\n"
   ]
  },
  {
   "cell_type": "code",
   "execution_count": null,
   "metadata": {},
   "outputs": [],
   "source": [
    "Confusion Matrix is a table that is often used to describe the performance of a classification model on a set of data for which the true values are known. It helps in understanding the performance of a classification algorithm by breaking down the predictions into four categories: true positives (TP), true negatives (TN), false positives (FP), and false negatives (FN).\n",
    "\n",
    "Here's a breakdown of each component of the confusion matrix:\n",
    "\n",
    "True Positive (TP):\n",
    "\n",
    "Instances that are actually positive and are correctly predicted as positive by the model.\n",
    "True Negative (TN):\n",
    "\n",
    "Instances that are actually negative and are correctly predicted as negative by the model.\n",
    "False Positive (FP) - Type I Error:\n",
    "\n",
    "Instances that are actually negative but are incorrectly predicted as positive by the model.\n",
    "False Negative (FN) - Type II Error:\n",
    "\n",
    "Instances that are actually positive but are incorrectly predicted as negative by the model.\n",
    "The confusion matrix is usually presented in the following format:\n",
    "\n",
    "mathematica\n",
    "Copy code\n",
    "              | Predicted Positive | Predicted Negative |\n",
    "Actual Positive |        TP          |        FN          |\n",
    "Actual Negative |        FP          |        TN          |\n",
    "Here's how precision, recall, and F1-score are related to the confusion matrix:\n",
    "\n",
    "Precision:\n",
    "\n",
    "Precision is the ratio of TP to the total predicted positives. It is a measure of the accuracy of positive predictions.\n",
    "Formula: Precision=TP/TP+FP\n",
    " \n",
    "Recall (Sensitivity or True Positive Rate):\n",
    "Recall is the ratio of TP to the total actual positives. It measures the ability of the model to capture all the positive instances.\n",
    "Formula: Recall=TP/TP+FN\n",
    "\n",
    "F1-Score:\n",
    "\n",
    "The F1-score is the harmonic mean of precision and recall. It provides a balance between precision and recall.\n",
    "Formula: F1-Score =2×Precision×Recall/Precision+Recall\n",
    " \n",
    "These metrics can be calculated directly from the values in the confusion matrix. Understanding the confusion matrix and associated metrics helps in assessing the strengths and weaknesses of a classification model and can guide model improvement efforts."
   ]
  }
 ],
 "metadata": {
  "kernelspec": {
   "display_name": "Python 3 (ipykernel)",
   "language": "python",
   "name": "python3"
  },
  "language_info": {
   "codemirror_mode": {
    "name": "ipython",
    "version": 3
   },
   "file_extension": ".py",
   "mimetype": "text/x-python",
   "name": "python",
   "nbconvert_exporter": "python",
   "pygments_lexer": "ipython3",
   "version": "3.9.12"
  }
 },
 "nbformat": 4,
 "nbformat_minor": 2
}
